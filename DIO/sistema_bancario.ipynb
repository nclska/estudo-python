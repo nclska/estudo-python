{
 "cells": [
  {
   "cell_type": "code",
   "execution_count": 5,
   "id": "f95fea19-b5d3-4b3a-9572-1f215bb515ff",
   "metadata": {},
   "outputs": [
    {
     "name": "stdin",
     "output_type": "stream",
     "text": [
      "\n",
      "\n",
      "[d] Depositar\n",
      "[s] Sacar\n",
      "[e] Extrato\n",
      "[q] Sair\n",
      "\n",
      "=>  q\n"
     ]
    }
   ],
   "source": [
    "menu = \"\"\"\n",
    "\n",
    "[d] Depositar\n",
    "[s] Sacar\n",
    "[e] Extrato\n",
    "[q] Sair\n",
    "\n",
    "=> \"\"\"\n",
    "\n",
    "saldo = 0\n",
    "limite = 500\n",
    "extrato = \"\"\n",
    "numero_saques = 0\n",
    "LIMITE_SAQUES = 3\n",
    "\n",
    "while True:\n",
    "\n",
    "    opcao = input(menu)\n",
    "\n",
    "    if opcao == \"d\":\n",
    "        valor = float(input(\"Informe o valor do depósito: \"))\n",
    "\n",
    "        if valor > 0:\n",
    "            saldo += valor\n",
    "            extrato += f\"Depósito: R$ {valor:.2f}\\n\"\n",
    "\n",
    "        else:\n",
    "            print(\"Operação falhou! O valor informado é inválido.\")\n",
    "\n",
    "    elif opcao == \"s\":\n",
    "        valor = float(input(\"Informe o valor do saque: \"))\n",
    "\n",
    "        excedeu_saldo = valor > saldo\n",
    "\n",
    "        excedeu_limite = valor > limite\n",
    "\n",
    "        excedeu_saques = numero_saques >= LIMITE_SAQUES\n",
    "\n",
    "        if excedeu_saldo:\n",
    "            print(\"Operação falhou! Você não tem saldo suficiente.\")\n",
    "\n",
    "        elif excedeu_limite:\n",
    "            print(\"Operação falhou! O valor do saque excede o limite.\")\n",
    "\n",
    "        elif excedeu_saques:\n",
    "            print(\"Operação falhou! Número máximo de saques excedido.\")\n",
    "\n",
    "        elif valor > 0:\n",
    "            saldo -= valor\n",
    "            extrato += f\"Saque: R$ {valor:.2f}\\n\"\n",
    "            numero_saques += 1\n",
    "\n",
    "        else:\n",
    "            print(\"Operação falhou! O valor informado é inválido.\")\n",
    "\n",
    "    elif opcao == \"e\":\n",
    "        print(\"\\n================ EXTRATO ================\")\n",
    "        print(\"Não foram realizadas movimentações.\" if not extrato else extrato)\n",
    "        print(f\"\\nSaldo: R$ {saldo:.2f}\")\n",
    "        print(\"==========================================\")\n",
    "\n",
    "    elif opcao == \"q\":\n",
    "        break\n",
    "\n",
    "    else:\n",
    "        print(\"Operação inválida, por favor selecione novamente a operação desejada.\")"
   ]
  },
  {
   "cell_type": "code",
   "execution_count": null,
   "id": "62af7227-ce56-488f-b2f4-c3864673eb78",
   "metadata": {},
   "outputs": [],
   "source": []
  }
 ],
 "metadata": {
  "kernelspec": {
   "display_name": "Python 3 (ipykernel)",
   "language": "python",
   "name": "python3"
  },
  "language_info": {
   "codemirror_mode": {
    "name": "ipython",
    "version": 3
   },
   "file_extension": ".py",
   "mimetype": "text/x-python",
   "name": "python",
   "nbconvert_exporter": "python",
   "pygments_lexer": "ipython3",
   "version": "3.12.4"
  }
 },
 "nbformat": 4,
 "nbformat_minor": 5
}
