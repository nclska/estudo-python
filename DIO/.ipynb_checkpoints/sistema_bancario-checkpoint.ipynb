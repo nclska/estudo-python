{
 "cells": [
  {
   "cell_type": "code",
   "execution_count": 19,
   "id": "f95fea19-b5d3-4b3a-9572-1f215bb515ff",
   "metadata": {},
   "outputs": [
    {
     "name": "stdin",
     "output_type": "stream",
     "text": [
      "'d' para depositar\n",
      "'s' para sacar\n",
      "'e' para extrato\n",
      "'q' para sair \n",
      " d\n",
      "\n",
      "insira o valor do depósito:  1499\n"
     ]
    },
    {
     "name": "stdout",
     "output_type": "stream",
     "text": [
      "R$1499.00 depositado com sucesso\n",
      "\n"
     ]
    },
    {
     "name": "stdin",
     "output_type": "stream",
     "text": [
      "'d' para depositar\n",
      "'s' para sacar\n",
      "'e' para extrato\n",
      "'q' para sair \n",
      " s\n",
      "\n",
      "insira o valor a ser sacado:  500\n"
     ]
    },
    {
     "name": "stdout",
     "output_type": "stream",
     "text": [
      "R$500.00 sacado com sucesso\n",
      "\n"
     ]
    },
    {
     "name": "stdin",
     "output_type": "stream",
     "text": [
      "'d' para depositar\n",
      "'s' para sacar\n",
      "'e' para extrato\n",
      "'q' para sair \n",
      " 500\n"
     ]
    },
    {
     "name": "stdout",
     "output_type": "stream",
     "text": [
      "entrada inválida\n",
      "tente novamente\n",
      "\n"
     ]
    },
    {
     "name": "stdin",
     "output_type": "stream",
     "text": [
      "'d' para depositar\n",
      "'s' para sacar\n",
      "'e' para extrato\n",
      "'q' para sair \n",
      " s\n",
      "\n",
      "insira o valor a ser sacado:  500\n"
     ]
    },
    {
     "name": "stdout",
     "output_type": "stream",
     "text": [
      "R$500.00 sacado com sucesso\n",
      "\n"
     ]
    },
    {
     "name": "stdin",
     "output_type": "stream",
     "text": [
      "'d' para depositar\n",
      "'s' para sacar\n",
      "'e' para extrato\n",
      "'q' para sair \n",
      " s\n",
      "\n",
      "insira o valor a ser sacado:  500\n"
     ]
    },
    {
     "name": "stdout",
     "output_type": "stream",
     "text": [
      "valor do saque maior que o saldo\n",
      "\n"
     ]
    },
    {
     "name": "stdin",
     "output_type": "stream",
     "text": [
      "'d' para depositar\n",
      "'s' para sacar\n",
      "'e' para extrato\n",
      "'q' para sair \n",
      " e\n"
     ]
    },
    {
     "name": "stdout",
     "output_type": "stream",
     "text": [
      "\n",
      "EXTRATO\n",
      "R$1499.00 depositados\n",
      "R$500.00 sacados\n",
      "R$500.00 sacados\n",
      "\n",
      "TOTAL: R$499.00\n",
      "\n"
     ]
    },
    {
     "name": "stdin",
     "output_type": "stream",
     "text": [
      "'d' para depositar\n",
      "'s' para sacar\n",
      "'e' para extrato\n",
      "'q' para sair \n",
      " s\n",
      "\n",
      "insira o valor a ser sacado:  498\n"
     ]
    },
    {
     "name": "stdout",
     "output_type": "stream",
     "text": [
      "R$498.00 sacado com sucesso\n",
      "\n"
     ]
    },
    {
     "name": "stdin",
     "output_type": "stream",
     "text": [
      "'d' para depositar\n",
      "'s' para sacar\n",
      "'e' para extrato\n",
      "'q' para sair \n",
      " e\n"
     ]
    },
    {
     "name": "stdout",
     "output_type": "stream",
     "text": [
      "\n",
      "EXTRATO\n",
      "R$1499.00 depositados\n",
      "R$500.00 sacados\n",
      "R$500.00 sacados\n",
      "R$498.00 sacados\n",
      "\n",
      "TOTAL: R$1.00\n",
      "\n"
     ]
    },
    {
     "name": "stdin",
     "output_type": "stream",
     "text": [
      "'d' para depositar\n",
      "'s' para sacar\n",
      "'e' para extrato\n",
      "'q' para sair \n",
      " q\n"
     ]
    }
   ],
   "source": [
    "menu = \"\\'d\\' para depositar\\n\\'s\\' para sacar\\n\\'e\\' para extrato\\n\\'q\\' para sair \\n\"\n",
    "\n",
    "saldo = 0\n",
    "extrato = \"\"\n",
    "LIMITE_VALOR_SAQUE = 500\n",
    "LIMITE_SAQUES = 3\n",
    "numero_saques = 0\n",
    "\n",
    "while True:\n",
    "    \n",
    "    entrada = input(menu)\n",
    "\n",
    "    if entrada == \"d\":\n",
    "        \n",
    "        valor_deposito = float(input(\"\\ninsira o valor do depósito: \"))\n",
    "        \n",
    "        if valor_deposito > 0:\n",
    "            print(f\"R${valor_deposito:.2f} depositado com sucesso\\n\")\n",
    "            saldo += valor_deposito\n",
    "            extrato += f\"R${valor_deposito:.2f} depositados\\n\"\n",
    "        else:\n",
    "            print(\"erro no depósito\\n\")\n",
    "\n",
    "    elif entrada == \"s\":\n",
    "\n",
    "        valor_saque = float(input(\"\\ninsira o valor a ser sacado: \"))\n",
    "\n",
    "        \n",
    "        if numero_saques >= LIMITE_SAQUES:\n",
    "            print(\"número de saques excedido\\n\")\n",
    "        elif valor_saque > LIMITE_VALOR_SAQUE:\n",
    "            print(\"valor do saque não pode ser maior que R$500\\n\")\n",
    "        elif valor_saque >= saldo:\n",
    "            print(\"valor do saque maior que o saldo\\n\")\n",
    "        else:\n",
    "            numero_saques += 1\n",
    "            saldo -= valor_saque\n",
    "            print(f\"R${valor_saque:.2f} sacado com sucesso\\n\")\n",
    "            extrato += f\"R${valor_saque:.2f} sacados\\n\"\n",
    "\n",
    "    elif entrada == \"e\":\n",
    "        print(\"\\nEXTRATO\")\n",
    "        print(f\"{extrato}\\nTOTAL: R${saldo:.2f}\\n\")\n",
    "\n",
    "\n",
    "    elif entrada == \"q\":\n",
    "        break\n",
    "\n",
    "    else:\n",
    "        print(\"entrada inválida\\ntente novamente\\n\")"
   ]
  },
  {
   "cell_type": "code",
   "execution_count": null,
   "id": "62af7227-ce56-488f-b2f4-c3864673eb78",
   "metadata": {},
   "outputs": [],
   "source": []
  }
 ],
 "metadata": {
  "kernelspec": {
   "display_name": "Python 3 (ipykernel)",
   "language": "python",
   "name": "python3"
  },
  "language_info": {
   "codemirror_mode": {
    "name": "ipython",
    "version": 3
   },
   "file_extension": ".py",
   "mimetype": "text/x-python",
   "name": "python",
   "nbconvert_exporter": "python",
   "pygments_lexer": "ipython3",
   "version": "3.12.4"
  }
 },
 "nbformat": 4,
 "nbformat_minor": 5
}
