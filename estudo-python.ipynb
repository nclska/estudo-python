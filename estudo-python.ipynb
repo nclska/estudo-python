{
  "cells": [
    {
      "cell_type": "markdown",
      "metadata": {
        "id": "view-in-github",
        "colab_type": "text"
      },
      "source": [
        "<a href=\"https://colab.research.google.com/github/nclska/estudo-python/blob/main/estudo-python.ipynb\" target=\"_parent\"><img src=\"https://colab.research.google.com/assets/colab-badge.svg\" alt=\"Open In Colab\"/></a>"
      ]
    },
    {
      "cell_type": "markdown",
      "id": "aebf5f25-fbda-43b5-a4a1-809c7e136753",
      "metadata": {
        "id": "aebf5f25-fbda-43b5-a4a1-809c7e136753"
      },
      "source": [
        "## Pylanthragem\n",
        "a canalhice está liberada"
      ]
    },
    {
      "cell_type": "code",
      "execution_count": null,
      "id": "4f3721cd-586e-4bbc-a8ff-2b0651e79c41",
      "metadata": {
        "tags": [],
        "id": "4f3721cd-586e-4bbc-a8ff-2b0651e79c41",
        "outputId": "41a08f56-d2e1-49b8-e238-e0b448b9c8ad"
      },
      "outputs": [
        {
          "data": {
            "text/plain": [
              "2"
            ]
          },
          "execution_count": 1,
          "metadata": {},
          "output_type": "execute_result"
        }
      ],
      "source": [
        "1+1"
      ]
    },
    {
      "cell_type": "code",
      "execution_count": null,
      "id": "f88233fc-3df1-4f12-aa15-a1dd99f92025",
      "metadata": {
        "tags": [],
        "id": "f88233fc-3df1-4f12-aa15-a1dd99f92025",
        "outputId": "d7dfb0cb-38a1-4d29-c112-5564912e3691"
      },
      "outputs": [
        {
          "data": {
            "text/plain": [
              "1"
            ]
          },
          "execution_count": 1,
          "metadata": {},
          "output_type": "execute_result"
        }
      ],
      "source": [
        "2-1"
      ]
    },
    {
      "cell_type": "code",
      "execution_count": null,
      "id": "c56d373c-8155-4126-b939-d69497774c12",
      "metadata": {
        "tags": [],
        "id": "c56d373c-8155-4126-b939-d69497774c12",
        "outputId": "901faec6-de94-4745-d889-e8a9b2cd2a6e"
      },
      "outputs": [
        {
          "data": {
            "text/plain": [
              "4"
            ]
          },
          "execution_count": 2,
          "metadata": {},
          "output_type": "execute_result"
        }
      ],
      "source": [
        "2*2"
      ]
    },
    {
      "cell_type": "code",
      "execution_count": null,
      "id": "624fdc7d-1500-4753-9fd9-aea1a63dec86",
      "metadata": {
        "tags": [],
        "id": "624fdc7d-1500-4753-9fd9-aea1a63dec86",
        "outputId": "f5873dc9-edab-4c7d-b99c-8efd245a30c7"
      },
      "outputs": [
        {
          "data": {
            "text/plain": [
              "1.0"
            ]
          },
          "execution_count": 3,
          "metadata": {},
          "output_type": "execute_result"
        }
      ],
      "source": [
        "2/2"
      ]
    },
    {
      "cell_type": "code",
      "execution_count": null,
      "id": "77eabc4e-2598-4663-9bcb-7dde9dbf8627",
      "metadata": {
        "tags": [],
        "id": "77eabc4e-2598-4663-9bcb-7dde9dbf8627",
        "outputId": "d15fb5a2-f521-42f2-a03e-6fe61c745731"
      },
      "outputs": [
        {
          "data": {
            "text/plain": [
              "4"
            ]
          },
          "execution_count": 4,
          "metadata": {},
          "output_type": "execute_result"
        }
      ],
      "source": [
        "2**2"
      ]
    },
    {
      "cell_type": "code",
      "execution_count": null,
      "id": "17fea379-778f-41ab-aa9b-c3085e706e7d",
      "metadata": {
        "tags": [],
        "id": "17fea379-778f-41ab-aa9b-c3085e706e7d",
        "outputId": "ea189235-9879-4d72-8503-71605839065a"
      },
      "outputs": [
        {
          "data": {
            "text/plain": [
              "5.0"
            ]
          },
          "execution_count": 11,
          "metadata": {},
          "output_type": "execute_result"
        }
      ],
      "source": [
        "25 ** (1/2)"
      ]
    },
    {
      "cell_type": "markdown",
      "id": "f76739f9-00f1-4b18-8a45-d86e24b96dea",
      "metadata": {
        "id": "f76739f9-00f1-4b18-8a45-d86e24b96dea"
      },
      "source": [
        "## Strings"
      ]
    },
    {
      "cell_type": "code",
      "execution_count": null,
      "id": "bee52dc7-7493-4c09-9af8-19e6e474a635",
      "metadata": {
        "tags": [],
        "id": "bee52dc7-7493-4c09-9af8-19e6e474a635"
      },
      "outputs": [],
      "source": [
        "string_1 = \"pilantra\""
      ]
    },
    {
      "cell_type": "code",
      "execution_count": null,
      "id": "44dad595-1909-470d-80e3-40e8c20d2449",
      "metadata": {
        "tags": [],
        "id": "44dad595-1909-470d-80e3-40e8c20d2449",
        "outputId": "46d8421a-b45c-4d54-8476-3b601590974a"
      },
      "outputs": [
        {
          "name": "stdout",
          "output_type": "stream",
          "text": [
            "pilantra\n"
          ]
        }
      ],
      "source": [
        "print(string_1)"
      ]
    },
    {
      "cell_type": "code",
      "execution_count": null,
      "id": "e3a33eb7-d6e6-4737-80d0-dfea93e2d1aa",
      "metadata": {
        "tags": [],
        "id": "e3a33eb7-d6e6-4737-80d0-dfea93e2d1aa",
        "outputId": "2b8e4c5c-286a-45bb-a565-62227c87182e"
      },
      "outputs": [
        {
          "name": "stdout",
          "output_type": "stream",
          "text": [
            "cabeca de 'ovo'\n"
          ]
        }
      ],
      "source": [
        "string_2 = \"cabeca de 'ovo'\"\n",
        "print(string_2)"
      ]
    },
    {
      "cell_type": "code",
      "execution_count": null,
      "id": "2bd3d2a0-1f44-486a-81d4-0edea50afdd5",
      "metadata": {
        "tags": [],
        "id": "2bd3d2a0-1f44-486a-81d4-0edea50afdd5",
        "outputId": "4f546179-9f05-419c-e825-1141d95c61e5"
      },
      "outputs": [
        {
          "name": "stdout",
          "output_type": "stream",
          "text": [
            "8\n",
            "15\n"
          ]
        }
      ],
      "source": [
        "print(len(string_1))\n",
        "print(len(string_2))"
      ]
    },
    {
      "cell_type": "code",
      "execution_count": null,
      "id": "d1778a6e-0731-4ac6-a57d-b0143cd7b7c6",
      "metadata": {
        "tags": [],
        "id": "d1778a6e-0731-4ac6-a57d-b0143cd7b7c6",
        "outputId": "635d4ddf-ba8e-4f2a-98bb-f1880737c493"
      },
      "outputs": [
        {
          "data": {
            "text/plain": [
              "'p'"
            ]
          },
          "execution_count": 30,
          "metadata": {},
          "output_type": "execute_result"
        }
      ],
      "source": [
        "string_1[0]"
      ]
    },
    {
      "cell_type": "code",
      "execution_count": null,
      "id": "3134b760-8cef-4d1a-b0e4-d318b4448674",
      "metadata": {
        "tags": [],
        "id": "3134b760-8cef-4d1a-b0e4-d318b4448674",
        "outputId": "11ef060b-2140-4718-bf6e-fdfa42452c31"
      },
      "outputs": [
        {
          "data": {
            "text/plain": [
              "'l'"
            ]
          },
          "execution_count": 31,
          "metadata": {},
          "output_type": "execute_result"
        }
      ],
      "source": [
        "string_1[2]"
      ]
    },
    {
      "cell_type": "code",
      "execution_count": null,
      "id": "ed8e58ca-8680-4beb-9f76-8f9cbd7f1646",
      "metadata": {
        "tags": [],
        "id": "ed8e58ca-8680-4beb-9f76-8f9cbd7f1646",
        "outputId": "12cae83a-f09b-4ec5-be64-0dc728b2269c"
      },
      "outputs": [
        {
          "data": {
            "text/plain": [
              "'c'"
            ]
          },
          "execution_count": 32,
          "metadata": {},
          "output_type": "execute_result"
        }
      ],
      "source": [
        "string_2[0]"
      ]
    },
    {
      "cell_type": "code",
      "execution_count": null,
      "id": "bdc83b90-8bf5-4bfd-8d41-ab3ad6fd7111",
      "metadata": {
        "tags": [],
        "id": "bdc83b90-8bf5-4bfd-8d41-ab3ad6fd7111",
        "outputId": "b0d62426-7ffb-4848-bd1b-7eea92dfd500"
      },
      "outputs": [
        {
          "data": {
            "text/plain": [
              "\"cabeca de 'ovo'\""
            ]
          },
          "execution_count": 34,
          "metadata": {},
          "output_type": "execute_result"
        }
      ],
      "source": [
        "string_2[:]"
      ]
    },
    {
      "cell_type": "code",
      "execution_count": null,
      "id": "06a0d4f9-0c8d-4824-b177-f53eafeeae6d",
      "metadata": {
        "tags": [],
        "id": "06a0d4f9-0c8d-4824-b177-f53eafeeae6d",
        "outputId": "4fa8d344-da36-4d8e-cf4f-2ed69a9e1f2f"
      },
      "outputs": [
        {
          "data": {
            "text/plain": [
              "\"cabeca de 'ovo'\""
            ]
          },
          "execution_count": 35,
          "metadata": {},
          "output_type": "execute_result"
        }
      ],
      "source": [
        "string_2"
      ]
    },
    {
      "cell_type": "code",
      "execution_count": null,
      "id": "e01ab091-0e43-49c0-ab60-595007615750",
      "metadata": {
        "tags": [],
        "id": "e01ab091-0e43-49c0-ab60-595007615750",
        "outputId": "f13078b1-ed61-4f5b-f553-9dc60b66b4fb"
      },
      "outputs": [
        {
          "data": {
            "text/plain": [
              "'pilantra'"
            ]
          },
          "execution_count": 37,
          "metadata": {},
          "output_type": "execute_result"
        }
      ],
      "source": [
        "string_1[::1]"
      ]
    },
    {
      "cell_type": "code",
      "execution_count": null,
      "id": "81189ded-97b1-4109-a01a-ba3f9e1e3436",
      "metadata": {
        "tags": [],
        "id": "81189ded-97b1-4109-a01a-ba3f9e1e3436",
        "outputId": "3017ecb7-8cd8-49c8-e3bf-6bd776bc2c70"
      },
      "outputs": [
        {
          "data": {
            "text/plain": [
              "'plnr'"
            ]
          },
          "execution_count": 40,
          "metadata": {},
          "output_type": "execute_result"
        }
      ],
      "source": [
        "string_1[::2]"
      ]
    },
    {
      "cell_type": "code",
      "execution_count": null,
      "id": "34dcbde1-490f-44c1-9bdd-eae977f6464f",
      "metadata": {
        "tags": [],
        "id": "34dcbde1-490f-44c1-9bdd-eae977f6464f",
        "outputId": "11c7b30d-0424-45fa-cd20-08fe67aeba06"
      },
      "outputs": [
        {
          "data": {
            "text/plain": [
              "\"cbc e'v'\""
            ]
          },
          "execution_count": 41,
          "metadata": {},
          "output_type": "execute_result"
        }
      ],
      "source": [
        "string_2[::2]"
      ]
    },
    {
      "cell_type": "code",
      "execution_count": null,
      "id": "a6008b09-fef0-4e61-a33e-70850e7323ee",
      "metadata": {
        "tags": [],
        "id": "a6008b09-fef0-4e61-a33e-70850e7323ee",
        "outputId": "8cba8b42-d583-4317-ed66-c59615fcfa05"
      },
      "outputs": [
        {
          "data": {
            "text/plain": [
              "'ilantra'"
            ]
          },
          "execution_count": 42,
          "metadata": {},
          "output_type": "execute_result"
        }
      ],
      "source": [
        "string_1[1:]"
      ]
    },
    {
      "cell_type": "code",
      "execution_count": null,
      "id": "93002641-5f19-403b-89c4-63618a7e4650",
      "metadata": {
        "tags": [],
        "id": "93002641-5f19-403b-89c4-63618a7e4650",
        "outputId": "8d1ba41b-3716-4e21-bbbd-90d4f9a6281f"
      },
      "outputs": [
        {
          "data": {
            "text/plain": [
              "\"beca de 'ovo'\""
            ]
          },
          "execution_count": 43,
          "metadata": {},
          "output_type": "execute_result"
        }
      ],
      "source": [
        "string_2[2:]"
      ]
    },
    {
      "cell_type": "code",
      "execution_count": null,
      "id": "c4b6b8ae-e026-4034-90e2-7c61d09b2c97",
      "metadata": {
        "tags": [],
        "id": "c4b6b8ae-e026-4034-90e2-7c61d09b2c97",
        "outputId": "a8cea18e-5f0a-4a5a-c303-7fb00b90b76b"
      },
      "outputs": [
        {
          "data": {
            "text/plain": [
              "\"cabeca de 'o\""
            ]
          },
          "execution_count": 47,
          "metadata": {},
          "output_type": "execute_result"
        }
      ],
      "source": [
        "string_2[-15:-3]"
      ]
    },
    {
      "cell_type": "code",
      "execution_count": null,
      "id": "9c2c137f-4bc4-44c2-ab91-d4250d053e46",
      "metadata": {
        "tags": [],
        "id": "9c2c137f-4bc4-44c2-ab91-d4250d053e46",
        "outputId": "e3601028-0a13-46f9-f244-19f044730f3a"
      },
      "outputs": [
        {
          "data": {
            "text/plain": [
              "\"'ovo' ed acebac\""
            ]
          },
          "execution_count": 49,
          "metadata": {},
          "output_type": "execute_result"
        }
      ],
      "source": [
        "string_2[::-1]"
      ]
    },
    {
      "cell_type": "code",
      "execution_count": null,
      "id": "c49fffa3-f9da-446d-a8f7-b16cc8c726b0",
      "metadata": {
        "tags": [],
        "id": "c49fffa3-f9da-446d-a8f7-b16cc8c726b0",
        "outputId": "36c6ed61-7050-41c3-c499-1628434e1128"
      },
      "outputs": [
        {
          "data": {
            "text/plain": [
              "'pilantra larapio'"
            ]
          },
          "execution_count": 50,
          "metadata": {},
          "output_type": "execute_result"
        }
      ],
      "source": [
        "string_1 + \" larapio\""
      ]
    },
    {
      "cell_type": "code",
      "execution_count": null,
      "id": "a477d9fc-5654-492a-a416-97ca3bc61e4e",
      "metadata": {
        "tags": [],
        "id": "a477d9fc-5654-492a-a416-97ca3bc61e4e"
      },
      "outputs": [],
      "source": [
        "p = string_1 + \" larapio\""
      ]
    },
    {
      "cell_type": "code",
      "execution_count": null,
      "id": "680b565c-e5f1-4111-b723-8100ef118586",
      "metadata": {
        "tags": [],
        "id": "680b565c-e5f1-4111-b723-8100ef118586",
        "outputId": "5676902a-fa76-4002-d9dc-baedea3bbf2f"
      },
      "outputs": [
        {
          "data": {
            "text/plain": [
              "'pilantra larapio'"
            ]
          },
          "execution_count": 53,
          "metadata": {},
          "output_type": "execute_result"
        }
      ],
      "source": [
        "p"
      ]
    },
    {
      "cell_type": "code",
      "execution_count": null,
      "id": "c085cfb9-a98b-4080-926c-c198a6e95584",
      "metadata": {
        "tags": [],
        "id": "c085cfb9-a98b-4080-926c-c198a6e95584",
        "outputId": "74642b44-11b5-4885-b2c3-7b45192949b8"
      },
      "outputs": [
        {
          "data": {
            "text/plain": [
              "'pilantra larapiopilantra larapiopilantra larapio'"
            ]
          },
          "execution_count": 54,
          "metadata": {},
          "output_type": "execute_result"
        }
      ],
      "source": [
        "p*3"
      ]
    },
    {
      "cell_type": "code",
      "execution_count": null,
      "id": "c12d7ea6-7231-459f-b894-73f53db8bedc",
      "metadata": {
        "tags": [],
        "id": "c12d7ea6-7231-459f-b894-73f53db8bedc",
        "outputId": "d4c18e8b-a214-44e5-b297-9b174f4e55e5"
      },
      "outputs": [
        {
          "data": {
            "text/plain": [
              "'PILANTRA LARAPIO'"
            ]
          },
          "execution_count": 55,
          "metadata": {},
          "output_type": "execute_result"
        }
      ],
      "source": [
        "p.upper()"
      ]
    },
    {
      "cell_type": "code",
      "execution_count": null,
      "id": "d70b47f4-450b-4ba2-b1d9-fe7bc8883266",
      "metadata": {
        "tags": [],
        "id": "d70b47f4-450b-4ba2-b1d9-fe7bc8883266",
        "outputId": "aca9ca54-4a0c-4929-b027-647e48398b7d"
      },
      "outputs": [
        {
          "data": {
            "text/plain": [
              "'pilantra larapio'"
            ]
          },
          "execution_count": 56,
          "metadata": {},
          "output_type": "execute_result"
        }
      ],
      "source": [
        "p.lower()"
      ]
    },
    {
      "cell_type": "code",
      "execution_count": null,
      "id": "a3b8f539-abd7-4763-a6b3-36b0be154e4f",
      "metadata": {
        "id": "a3b8f539-abd7-4763-a6b3-36b0be154e4f",
        "outputId": "a312a833-991f-45a1-93aa-8ff15cd24b32"
      },
      "outputs": [
        {
          "data": {
            "text/plain": [
              "'         Canalha     '"
            ]
          },
          "execution_count": 13,
          "metadata": {},
          "output_type": "execute_result"
        }
      ],
      "source": [
        "p = \"         canAlha     \"\n",
        "p.title()"
      ]
    },
    {
      "cell_type": "code",
      "execution_count": null,
      "id": "6bca033b-31be-43e2-9575-ef84c0c4906c",
      "metadata": {
        "id": "6bca033b-31be-43e2-9575-ef84c0c4906c",
        "outputId": "e3aeda1c-57c2-4b2a-900d-ea935f931d60"
      },
      "outputs": [
        {
          "data": {
            "text/plain": [
              "'canAlha'"
            ]
          },
          "execution_count": 14,
          "metadata": {},
          "output_type": "execute_result"
        }
      ],
      "source": [
        "p.strip()"
      ]
    },
    {
      "cell_type": "code",
      "execution_count": null,
      "id": "98380cd5-2aa9-412f-a6f2-605fac17a657",
      "metadata": {
        "id": "98380cd5-2aa9-412f-a6f2-605fac17a657",
        "outputId": "c77261cf-acbb-44ea-d158-25cee1e7c2a2"
      },
      "outputs": [
        {
          "data": {
            "text/plain": [
              "'canAlha     '"
            ]
          },
          "execution_count": 15,
          "metadata": {},
          "output_type": "execute_result"
        }
      ],
      "source": [
        "p.lstrip()"
      ]
    },
    {
      "cell_type": "code",
      "execution_count": null,
      "id": "ac2749cc-394a-4af7-882b-51011b8f31cf",
      "metadata": {
        "id": "ac2749cc-394a-4af7-882b-51011b8f31cf",
        "outputId": "2f1d832f-9f71-4621-917f-d5db392b80de"
      },
      "outputs": [
        {
          "data": {
            "text/plain": [
              "'         canAlha'"
            ]
          },
          "execution_count": 16,
          "metadata": {},
          "output_type": "execute_result"
        }
      ],
      "source": [
        "p.rstrip()"
      ]
    },
    {
      "cell_type": "code",
      "execution_count": null,
      "id": "07311464-7a20-4490-8798-0288508ec37f",
      "metadata": {
        "id": "07311464-7a20-4490-8798-0288508ec37f",
        "outputId": "98e6c807-648f-4cc7-e40b-7f804ea64a4c"
      },
      "outputs": [
        {
          "name": "stdout",
          "output_type": "stream",
          "text": [
            "...python...\n",
            "p.y.t.h.o.n\n"
          ]
        }
      ],
      "source": [
        "p = \"python\"\n",
        "print(p.center(12,\".\"))\n",
        "print(\".\".join(p))"
      ]
    },
    {
      "cell_type": "code",
      "execution_count": null,
      "id": "e2f19958-329c-43fb-9fa3-ffbd40178083",
      "metadata": {
        "id": "e2f19958-329c-43fb-9fa3-ffbd40178083",
        "outputId": "b6a99725-6900-4a1c-b65e-d2019de715d4"
      },
      "outputs": [
        {
          "name": "stdout",
          "output_type": "stream",
          "text": [
            "meu nome é Kalebe e tenho 20 de idade. Muito prazer!\n"
          ]
        }
      ],
      "source": [
        "me = {\"nome\": \"Kalebe\", \"idade\": 20}\n",
        "print(\"meu nome é {nome} e tenho {idade} de idade. Muito prazer!\".format(**me))"
      ]
    },
    {
      "cell_type": "code",
      "execution_count": null,
      "id": "7ca150df-6b79-47f7-aeb9-1260d7455451",
      "metadata": {
        "tags": [],
        "id": "7ca150df-6b79-47f7-aeb9-1260d7455451",
        "outputId": "191d871b-43d2-44ac-f1ed-865769bb796b"
      },
      "outputs": [
        {
          "data": {
            "text/plain": [
              "['pilantra', 'larapio']"
            ]
          },
          "execution_count": 57,
          "metadata": {},
          "output_type": "execute_result"
        }
      ],
      "source": [
        "p.split()"
      ]
    },
    {
      "cell_type": "code",
      "execution_count": null,
      "id": "10aa6865-97f3-4aa6-aeda-7c8768a9f0a6",
      "metadata": {
        "tags": [],
        "id": "10aa6865-97f3-4aa6-aeda-7c8768a9f0a6",
        "outputId": "f356ed58-de53-470a-889e-e8b22cfb4232"
      },
      "outputs": [
        {
          "data": {
            "text/plain": [
              "['pi', 'antra ', 'arapio']"
            ]
          },
          "execution_count": 59,
          "metadata": {},
          "output_type": "execute_result"
        }
      ],
      "source": [
        "p.split('l')"
      ]
    },
    {
      "cell_type": "code",
      "execution_count": null,
      "id": "8d1447a2-cb1e-4b7d-bc46-18ec5bf6130e",
      "metadata": {
        "tags": [],
        "id": "8d1447a2-cb1e-4b7d-bc46-18ec5bf6130e",
        "outputId": "ab9287b1-6b57-4bb4-e8aa-c521467aaa98"
      },
      "outputs": [
        {
          "data": {
            "text/plain": [
              "'pilantra larapio'"
            ]
          },
          "execution_count": 60,
          "metadata": {},
          "output_type": "execute_result"
        }
      ],
      "source": [
        "p"
      ]
    },
    {
      "cell_type": "code",
      "execution_count": null,
      "id": "641e353f-ec2e-44c6-b9c3-eb598e81b275",
      "metadata": {
        "tags": [],
        "id": "641e353f-ec2e-44c6-b9c3-eb598e81b275",
        "outputId": "e5ec0362-9964-4830-d0c0-1c5c449a725d"
      },
      "outputs": [
        {
          "data": {
            "text/plain": [
              "['pil', 'ntr', ' l', 'r', 'pio']"
            ]
          },
          "execution_count": 61,
          "metadata": {},
          "output_type": "execute_result"
        }
      ],
      "source": [
        "p.split('a')"
      ]
    },
    {
      "cell_type": "code",
      "execution_count": null,
      "id": "7a6bcba4-20bc-4e53-808e-d5e982fc1680",
      "metadata": {
        "tags": [],
        "id": "7a6bcba4-20bc-4e53-808e-d5e982fc1680"
      },
      "outputs": [],
      "source": [
        "string = \"casa\""
      ]
    },
    {
      "cell_type": "code",
      "execution_count": null,
      "id": "17fd2863-5c5b-4909-b0d9-017aca4c4c52",
      "metadata": {
        "tags": [],
        "id": "17fd2863-5c5b-4909-b0d9-017aca4c4c52",
        "outputId": "88d31055-7b9c-415c-9b62-45f5b9a346f4"
      },
      "outputs": [
        {
          "data": {
            "text/plain": [
              "'casacasa'"
            ]
          },
          "execution_count": 12,
          "metadata": {},
          "output_type": "execute_result"
        }
      ],
      "source": [
        "string * 2"
      ]
    },
    {
      "cell_type": "code",
      "execution_count": null,
      "id": "c0ca68d8-a2fc-4d0a-9bd5-4a0a28d0f061",
      "metadata": {
        "tags": [],
        "id": "c0ca68d8-a2fc-4d0a-9bd5-4a0a28d0f061",
        "outputId": "834fdedb-2976-4f85-ac2d-649c1c73fd3a"
      },
      "outputs": [
        {
          "data": {
            "text/plain": [
              "'s'"
            ]
          },
          "execution_count": 14,
          "metadata": {},
          "output_type": "execute_result"
        }
      ],
      "source": [
        "string[2]"
      ]
    },
    {
      "cell_type": "code",
      "execution_count": null,
      "id": "663b30c4-fdf9-47c9-838b-df154aac79c6",
      "metadata": {
        "tags": [],
        "id": "663b30c4-fdf9-47c9-838b-df154aac79c6",
        "outputId": "b66ca8cb-08fe-4286-8fce-ad6995e3033d"
      },
      "outputs": [
        {
          "ename": "TypeError",
          "evalue": "'str' object does not support item assignment",
          "output_type": "error",
          "traceback": [
            "\u001b[1;31m---------------------------------------------------------------------------\u001b[0m",
            "\u001b[1;31mTypeError\u001b[0m                                 Traceback (most recent call last)",
            "Cell \u001b[1;32mIn[17], line 1\u001b[0m\n\u001b[1;32m----> 1\u001b[0m string[\u001b[38;5;241m2\u001b[39m] \u001b[38;5;241m=\u001b[39m \u001b[38;5;124m\"\u001b[39m\u001b[38;5;124mr\u001b[39m\u001b[38;5;124m\"\u001b[39m\n",
            "\u001b[1;31mTypeError\u001b[0m: 'str' object does not support item assignment"
          ]
        }
      ],
      "source": [
        "string[2] = \"r\""
      ]
    },
    {
      "cell_type": "code",
      "execution_count": null,
      "id": "6cdf6179-f179-42da-a9c6-4f3ab2ea3c69",
      "metadata": {
        "tags": [],
        "id": "6cdf6179-f179-42da-a9c6-4f3ab2ea3c69",
        "outputId": "1a9afaa0-5255-41f4-af96-386fe3c0ef71"
      },
      "outputs": [
        {
          "data": {
            "text/plain": [
              "str"
            ]
          },
          "execution_count": 18,
          "metadata": {},
          "output_type": "execute_result"
        }
      ],
      "source": [
        "type(string)"
      ]
    },
    {
      "cell_type": "code",
      "execution_count": null,
      "id": "9119a3aa-266a-4068-b1c2-08085dbfbf26",
      "metadata": {
        "tags": [],
        "id": "9119a3aa-266a-4068-b1c2-08085dbfbf26",
        "outputId": "6d16e682-8e8b-44fe-a2a9-6c4623991916"
      },
      "outputs": [
        {
          "name": "stdout",
          "output_type": "stream",
          "text": [
            "CASA\n",
            "casa\n"
          ]
        }
      ],
      "source": [
        "print(string.upper())\n",
        "print(string.lower())"
      ]
    },
    {
      "cell_type": "code",
      "execution_count": null,
      "id": "8d59b800-7326-4331-89de-9cdaec9583ce",
      "metadata": {
        "tags": [],
        "id": "8d59b800-7326-4331-89de-9cdaec9583ce",
        "outputId": "660aefc5-6e58-4c47-82e9-a8a677c11227"
      },
      "outputs": [
        {
          "data": {
            "text/plain": [
              "['c', 's', '']"
            ]
          },
          "execution_count": 26,
          "metadata": {},
          "output_type": "execute_result"
        }
      ],
      "source": [
        "string.split(\"a\")"
      ]
    },
    {
      "cell_type": "code",
      "execution_count": null,
      "id": "bbd683b7-03ba-4203-a8fa-46f4cf603bfe",
      "metadata": {
        "tags": [],
        "id": "bbd683b7-03ba-4203-a8fa-46f4cf603bfe",
        "outputId": "14601811-c277-4b26-ef06-7c7809e64d43"
      },
      "outputs": [
        {
          "data": {
            "text/plain": [
              "'casa'"
            ]
          },
          "execution_count": 27,
          "metadata": {},
          "output_type": "execute_result"
        }
      ],
      "source": [
        "string"
      ]
    },
    {
      "cell_type": "code",
      "execution_count": null,
      "id": "0e0c0973-b0a3-40de-a112-034589146db5",
      "metadata": {
        "tags": [],
        "id": "0e0c0973-b0a3-40de-a112-034589146db5",
        "outputId": "74e44fd6-23d8-417c-dd4f-d0c800289377"
      },
      "outputs": [
        {
          "name": "stdout",
          "output_type": "stream",
          "text": [
            "nome: kalebe \n",
            "idade: 21 \n",
            "numero de telefone: (91) 9 9951-8493\n"
          ]
        }
      ],
      "source": [
        "nome = \"kalebe\"\n",
        "idade = 21\n",
        "numero = '(91) 9 9951-8493'\n",
        "\n",
        "print(\"nome: {} \\nidade: {} \\nnumero de telefone: {}\".format(nome, idade, numero))"
      ]
    },
    {
      "cell_type": "code",
      "execution_count": null,
      "id": "e34efb26-b716-43f3-ba87-e90c215b138e",
      "metadata": {
        "tags": [],
        "id": "e34efb26-b716-43f3-ba87-e90c215b138e",
        "outputId": "ece4d8e2-1446-403a-a699-669b378b6091"
      },
      "outputs": [
        {
          "name": "stdout",
          "output_type": "stream",
          "text": [
            "nome: (91) 9 9951-8493 \n",
            "idade: 21 \n",
            "numero de telefone: kalebe\n"
          ]
        }
      ],
      "source": [
        "nome = \"kalebe\"\n",
        "idade = 21\n",
        "numero = '(91) 9 9951-8493'\n",
        "\n",
        "print(\"nome: {a} \\nidade: {b} \\nnumero de telefone: {c}\".format(c = nome, b = idade, a = numero))"
      ]
    },
    {
      "cell_type": "code",
      "execution_count": null,
      "id": "e6f9d3e0-1bc9-4616-bdca-0289cde325fd",
      "metadata": {
        "id": "e6f9d3e0-1bc9-4616-bdca-0289cde325fd",
        "outputId": "5a203369-694a-42bc-bb9b-0aab40886b24"
      },
      "outputs": [
        {
          "name": "stdout",
          "output_type": "stream",
          "text": [
            "nome: (01) 0 0051-8403 \n",
            "idade: 21 \n",
            "numero de telefone: kalebe\n"
          ]
        }
      ],
      "source": [
        "numero = numero.replace(\"9\", \"0\")\n",
        "print(\"nome: {a} \\nidade: {b} \\nnumero de telefone: {c}\".format(c = nome, b = idade, a = numero))"
      ]
    },
    {
      "cell_type": "markdown",
      "id": "1f54a30c-cccc-4baf-afc9-c904e352409f",
      "metadata": {
        "id": "1f54a30c-cccc-4baf-afc9-c904e352409f"
      },
      "source": [
        "## Listas"
      ]
    },
    {
      "cell_type": "code",
      "execution_count": null,
      "id": "82896718-cca7-4910-8f40-8db96edaee95",
      "metadata": {
        "tags": [],
        "id": "82896718-cca7-4910-8f40-8db96edaee95",
        "outputId": "6a090974-7f1b-4028-b911-f57af259ea85"
      },
      "outputs": [
        {
          "name": "stdout",
          "output_type": "stream",
          "text": [
            "15\n",
            "1\n"
          ]
        }
      ],
      "source": [
        "lista = [1,2,3,4,5,6,7,8,9,10,11,12,13,14,15]\n",
        "print(max(lista))\n",
        "print(min(lista))"
      ]
    },
    {
      "cell_type": "code",
      "execution_count": null,
      "id": "7968b50d-7321-4fd4-9409-a4e6a52d05fa",
      "metadata": {
        "tags": [],
        "id": "7968b50d-7321-4fd4-9409-a4e6a52d05fa",
        "outputId": "ebc09f89-99a6-4b6d-e59d-1e687c920618"
      },
      "outputs": [
        {
          "data": {
            "text/plain": [
              "[1, 2, 3]"
            ]
          },
          "execution_count": 32,
          "metadata": {},
          "output_type": "execute_result"
        }
      ],
      "source": [
        "lista"
      ]
    },
    {
      "cell_type": "code",
      "execution_count": null,
      "id": "fe6bd67e-ace6-40eb-819f-87cf105bf52d",
      "metadata": {
        "tags": [],
        "id": "fe6bd67e-ace6-40eb-819f-87cf105bf52d",
        "outputId": "74de2ffe-dd12-42d8-c557-6b3f3078cad1"
      },
      "outputs": [
        {
          "data": {
            "text/plain": [
              "list"
            ]
          },
          "execution_count": 33,
          "metadata": {},
          "output_type": "execute_result"
        }
      ],
      "source": [
        "type(lista)"
      ]
    },
    {
      "cell_type": "code",
      "execution_count": null,
      "id": "77fdf2ef-451e-419b-8602-4665d4702eee",
      "metadata": {
        "tags": [],
        "id": "77fdf2ef-451e-419b-8602-4665d4702eee",
        "outputId": "288199ac-bf85-4b78-fd33-668fa1f7c1ad"
      },
      "outputs": [
        {
          "name": "stdout",
          "output_type": "stream",
          "text": [
            "1\n",
            "2\n",
            "3\n",
            "3\n",
            "[1, 2, 3]\n",
            "[1, 2]\n",
            "[2]\n"
          ]
        }
      ],
      "source": [
        "print(lista[0])\n",
        "print(lista[1])\n",
        "print(lista[2])\n",
        "print(lista[-1])\n",
        "print(lista[:])\n",
        "print(lista[0:-1])\n",
        "print(lista[1:-1])"
      ]
    },
    {
      "cell_type": "code",
      "execution_count": null,
      "id": "31284976-557b-4b79-8c84-8a0b3f7c4281",
      "metadata": {
        "tags": [],
        "id": "31284976-557b-4b79-8c84-8a0b3f7c4281"
      },
      "outputs": [],
      "source": [
        "eu = [\"kalebe\", 21, 91999518493, [11, 12, 13]]"
      ]
    },
    {
      "cell_type": "code",
      "execution_count": null,
      "id": "41ce02a1-2b86-432d-93b3-126f7d826814",
      "metadata": {
        "tags": [],
        "id": "41ce02a1-2b86-432d-93b3-126f7d826814",
        "outputId": "adbb4bd1-71f3-42d5-b7f8-2bc9d2d553dc"
      },
      "outputs": [
        {
          "data": {
            "text/plain": [
              "'KALEBE'"
            ]
          },
          "execution_count": 41,
          "metadata": {},
          "output_type": "execute_result"
        }
      ],
      "source": [
        "eu[0].upper()"
      ]
    },
    {
      "cell_type": "code",
      "execution_count": null,
      "id": "4eb0c67d-3461-4e27-9d4d-070048ee311c",
      "metadata": {
        "tags": [],
        "id": "4eb0c67d-3461-4e27-9d4d-070048ee311c",
        "outputId": "13720715-9394-4803-d978-ac3898b81c49"
      },
      "outputs": [
        {
          "data": {
            "text/plain": [
              "[11, 12, 13]"
            ]
          },
          "execution_count": 42,
          "metadata": {},
          "output_type": "execute_result"
        }
      ],
      "source": [
        "eu[3][:]"
      ]
    },
    {
      "cell_type": "code",
      "execution_count": null,
      "id": "0ade0f6f-ceb5-4326-b013-c098adfc08cd",
      "metadata": {
        "tags": [],
        "id": "0ade0f6f-ceb5-4326-b013-c098adfc08cd",
        "outputId": "c7a3acd3-a0ba-464a-8f20-5cc8690af989"
      },
      "outputs": [
        {
          "data": {
            "text/plain": [
              "['kalebe', 21, 91999518493]"
            ]
          },
          "execution_count": 43,
          "metadata": {},
          "output_type": "execute_result"
        }
      ],
      "source": [
        "eu[0:-1]"
      ]
    },
    {
      "cell_type": "markdown",
      "id": "939a25de-d943-4736-9fd1-3b6384cd47db",
      "metadata": {
        "id": "939a25de-d943-4736-9fd1-3b6384cd47db"
      },
      "source": [
        "## Métodos básicos de listas"
      ]
    },
    {
      "cell_type": "code",
      "execution_count": null,
      "id": "c15a7b33-26b9-4ef9-bbc7-b4301682faf3",
      "metadata": {
        "tags": [],
        "id": "c15a7b33-26b9-4ef9-bbc7-b4301682faf3"
      },
      "outputs": [],
      "source": [
        "l = [1,2,3]"
      ]
    },
    {
      "cell_type": "code",
      "execution_count": null,
      "id": "7726766e-9edb-4772-9853-73b779627c8f",
      "metadata": {
        "tags": [],
        "id": "7726766e-9edb-4772-9853-73b779627c8f",
        "outputId": "645f54ec-deb0-4749-f29d-73a0fe525e83"
      },
      "outputs": [
        {
          "data": {
            "text/plain": [
              "[1, 2, 3, 4]"
            ]
          },
          "execution_count": 25,
          "metadata": {},
          "output_type": "execute_result"
        }
      ],
      "source": [
        "l.append(4)\n",
        "l"
      ]
    },
    {
      "cell_type": "code",
      "execution_count": null,
      "id": "7175f585-41c4-4512-9a5b-c9b3dba2686a",
      "metadata": {
        "tags": [],
        "id": "7175f585-41c4-4512-9a5b-c9b3dba2686a",
        "outputId": "01d17eff-a147-402a-efa1-44c611bf00a2"
      },
      "outputs": [
        {
          "data": {
            "text/plain": [
              "3"
            ]
          },
          "execution_count": 26,
          "metadata": {},
          "output_type": "execute_result"
        }
      ],
      "source": [
        "l.pop(2)"
      ]
    },
    {
      "cell_type": "code",
      "execution_count": null,
      "id": "96ee3b0b-e2c8-4328-8986-960f44f50eaf",
      "metadata": {
        "tags": [],
        "id": "96ee3b0b-e2c8-4328-8986-960f44f50eaf",
        "outputId": "4175b2c6-e1dc-42f4-f9f2-4915665e0022"
      },
      "outputs": [
        {
          "data": {
            "text/plain": [
              "[1, 2, 4]"
            ]
          },
          "execution_count": 27,
          "metadata": {},
          "output_type": "execute_result"
        }
      ],
      "source": [
        "l"
      ]
    },
    {
      "cell_type": "code",
      "execution_count": null,
      "id": "c2fbb16b-aa9f-40d8-9884-b276a33c977b",
      "metadata": {
        "tags": [],
        "id": "c2fbb16b-aa9f-40d8-9884-b276a33c977b"
      },
      "outputs": [],
      "source": [
        "nl = [\"a\", \"b\", \"c\", \"d\", \"e\"]"
      ]
    },
    {
      "cell_type": "code",
      "execution_count": null,
      "id": "e2cd14ad-589c-4416-abf2-8ce536b52686",
      "metadata": {
        "tags": [],
        "id": "e2cd14ad-589c-4416-abf2-8ce536b52686"
      },
      "outputs": [],
      "source": [
        "nl.reverse()"
      ]
    },
    {
      "cell_type": "code",
      "execution_count": null,
      "id": "7e81b057-6539-4c9f-9092-f3d527dd5ba8",
      "metadata": {
        "tags": [],
        "id": "7e81b057-6539-4c9f-9092-f3d527dd5ba8",
        "outputId": "a68adb46-ad32-4043-e15e-8341ae9b95c0"
      },
      "outputs": [
        {
          "data": {
            "text/plain": [
              "['e', 'd', 'c', 'b', 'a']"
            ]
          },
          "execution_count": 76,
          "metadata": {},
          "output_type": "execute_result"
        }
      ],
      "source": [
        "nl"
      ]
    },
    {
      "cell_type": "code",
      "execution_count": null,
      "id": "5fc85ffd-adb0-4e80-a541-c161d2068a20",
      "metadata": {
        "tags": [],
        "id": "5fc85ffd-adb0-4e80-a541-c161d2068a20"
      },
      "outputs": [],
      "source": [
        "nl.sort()"
      ]
    },
    {
      "cell_type": "code",
      "execution_count": null,
      "id": "cd21450b-133d-4902-b257-2fc8ee756ed8",
      "metadata": {
        "tags": [],
        "id": "cd21450b-133d-4902-b257-2fc8ee756ed8",
        "outputId": "6feece92-7370-4d07-ca9b-c24e1eb7b862"
      },
      "outputs": [
        {
          "data": {
            "text/plain": [
              "['a', 'b', 'c', 'd', 'e']"
            ]
          },
          "execution_count": 78,
          "metadata": {},
          "output_type": "execute_result"
        }
      ],
      "source": [
        "nl"
      ]
    },
    {
      "cell_type": "code",
      "execution_count": null,
      "id": "88488ba7-edd3-41ae-a42b-340814b0b03a",
      "metadata": {
        "tags": [],
        "id": "88488ba7-edd3-41ae-a42b-340814b0b03a"
      },
      "outputs": [],
      "source": [
        "nln = [0, 1, 2, 3, 4, 5, 6, 7, 8, 9]"
      ]
    },
    {
      "cell_type": "code",
      "execution_count": null,
      "id": "1ae6602d-c3db-4ebe-a956-c0cd1b71d4ab",
      "metadata": {
        "tags": [],
        "id": "1ae6602d-c3db-4ebe-a956-c0cd1b71d4ab",
        "outputId": "5c6d0ceb-74ba-4cd3-a8c1-7c03bade2e39"
      },
      "outputs": [
        {
          "name": "stdout",
          "output_type": "stream",
          "text": [
            "[9, 8, 7, 6, 5, 4, 3, 2, 1, 0]\n",
            "[0, 1, 2, 3, 4, 5, 6, 7, 8, 9]\n"
          ]
        }
      ],
      "source": [
        "nln.reverse()\n",
        "print(nln)\n",
        "\n",
        "nln.sort()\n",
        "print(nln)"
      ]
    },
    {
      "cell_type": "markdown",
      "id": "e37a5028-84dc-409d-8e0c-16f6f175d026",
      "metadata": {
        "id": "e37a5028-84dc-409d-8e0c-16f6f175d026"
      },
      "source": [
        "## Dicionários"
      ]
    },
    {
      "cell_type": "code",
      "execution_count": null,
      "id": "44f7f863-d0e8-4dfa-a7e7-4ec2027a971c",
      "metadata": {
        "tags": [],
        "id": "44f7f863-d0e8-4dfa-a7e7-4ec2027a971c"
      },
      "outputs": [],
      "source": [
        "eu = {\"nome\": \"kalebe\", \"idade\": 21, \"filhos\": [0], \"profissão\": \"estudante\"}"
      ]
    },
    {
      "cell_type": "code",
      "execution_count": null,
      "id": "28e76a61-3315-4f97-a2ef-8c0010eb2c7f",
      "metadata": {
        "tags": [],
        "id": "28e76a61-3315-4f97-a2ef-8c0010eb2c7f",
        "outputId": "c852a06b-51a0-4a95-ac47-4f91dafc41bc"
      },
      "outputs": [
        {
          "data": {
            "text/plain": [
              "{'nome': 'kalebe', 'idade': 21, 'filhos': [0], 'profissão': 'estudante'}"
            ]
          },
          "execution_count": 84,
          "metadata": {},
          "output_type": "execute_result"
        }
      ],
      "source": [
        "eu"
      ]
    },
    {
      "cell_type": "code",
      "execution_count": null,
      "id": "b416f9e5-e998-4f50-b401-d40cc01c5191",
      "metadata": {
        "tags": [],
        "id": "b416f9e5-e998-4f50-b401-d40cc01c5191"
      },
      "outputs": [],
      "source": [
        "eu[\"cidade\"] = \"belém\""
      ]
    },
    {
      "cell_type": "code",
      "execution_count": null,
      "id": "295db3c7-b518-4756-aaab-427b688a255e",
      "metadata": {
        "tags": [],
        "id": "295db3c7-b518-4756-aaab-427b688a255e",
        "outputId": "1a36305a-b944-48e5-fe54-bc72732486ed"
      },
      "outputs": [
        {
          "data": {
            "text/plain": [
              "{'nome': 'kalebe',\n",
              " 'idade': 21,\n",
              " 'filhos': [0],\n",
              " 'profissão': 'estudante',\n",
              " 'cidade': 'belém'}"
            ]
          },
          "execution_count": 88,
          "metadata": {},
          "output_type": "execute_result"
        }
      ],
      "source": [
        "eu"
      ]
    },
    {
      "cell_type": "code",
      "execution_count": null,
      "id": "7c5689ad-6027-4faa-b84d-743b8b8f70b8",
      "metadata": {
        "tags": [],
        "id": "7c5689ad-6027-4faa-b84d-743b8b8f70b8",
        "outputId": "89a8e77b-a6c8-4af2-e2be-99eed659eb1d"
      },
      "outputs": [
        {
          "data": {
            "text/plain": [
              "dict_items([('nome', 'kalebe'), ('idade', 21), ('filhos', [0]), ('profissão', 'estudante'), ('cidade', 'belém')])"
            ]
          },
          "execution_count": 91,
          "metadata": {},
          "output_type": "execute_result"
        }
      ],
      "source": [
        "eu.items()"
      ]
    },
    {
      "cell_type": "code",
      "execution_count": null,
      "id": "2862a657-fd53-4c8d-8c30-da705e4b32a1",
      "metadata": {
        "tags": [],
        "id": "2862a657-fd53-4c8d-8c30-da705e4b32a1",
        "outputId": "cc059b40-92f0-476e-cf18-a7fb5920a9a3"
      },
      "outputs": [
        {
          "data": {
            "text/plain": [
              "dict_keys(['nome', 'idade', 'filhos', 'profissão', 'cidade'])"
            ]
          },
          "execution_count": 92,
          "metadata": {},
          "output_type": "execute_result"
        }
      ],
      "source": [
        "eu.keys()"
      ]
    },
    {
      "cell_type": "code",
      "execution_count": null,
      "id": "fe5bf07b-76ef-4db7-bb8c-2c58a2aa008f",
      "metadata": {
        "tags": [],
        "id": "fe5bf07b-76ef-4db7-bb8c-2c58a2aa008f",
        "outputId": "a7be8d65-c750-4b30-df36-34fd0a9fa4d8"
      },
      "outputs": [
        {
          "data": {
            "text/plain": [
              "dict_values(['kalebe', 21, [0], 'estudante', 'belém'])"
            ]
          },
          "execution_count": 93,
          "metadata": {},
          "output_type": "execute_result"
        }
      ],
      "source": [
        "eu.values()"
      ]
    },
    {
      "cell_type": "code",
      "execution_count": null,
      "id": "260d9ef2-6503-449b-bdc6-77b2b637006a",
      "metadata": {
        "tags": [],
        "id": "260d9ef2-6503-449b-bdc6-77b2b637006a",
        "outputId": "276f4aff-b495-4a12-dde0-6b4b51300810"
      },
      "outputs": [
        {
          "data": {
            "text/plain": [
              "dict"
            ]
          },
          "execution_count": 94,
          "metadata": {},
          "output_type": "execute_result"
        }
      ],
      "source": [
        "type(eu)"
      ]
    },
    {
      "cell_type": "code",
      "execution_count": null,
      "id": "e5da20ae-3a8b-41c3-897b-250a3152108e",
      "metadata": {
        "tags": [],
        "id": "e5da20ae-3a8b-41c3-897b-250a3152108e",
        "outputId": "99e8f2e5-dc5d-4190-c99b-6b404aed2e66"
      },
      "outputs": [
        {
          "data": {
            "text/plain": [
              "5"
            ]
          },
          "execution_count": 95,
          "metadata": {},
          "output_type": "execute_result"
        }
      ],
      "source": [
        "len(eu)"
      ]
    },
    {
      "cell_type": "markdown",
      "id": "ddb6bc57-d4ab-4c8f-84aa-a8190f872a14",
      "metadata": {
        "id": "ddb6bc57-d4ab-4c8f-84aa-a8190f872a14"
      },
      "source": [
        "## Tuplas"
      ]
    },
    {
      "cell_type": "code",
      "execution_count": null,
      "id": "ce5a9c98-e120-4904-92f8-187e1b274751",
      "metadata": {
        "tags": [],
        "id": "ce5a9c98-e120-4904-92f8-187e1b274751"
      },
      "outputs": [],
      "source": [
        "t = (1, 2, 3) ## tuplas são imutáveis"
      ]
    },
    {
      "cell_type": "code",
      "execution_count": null,
      "id": "09f03d33-1a99-4c77-9e25-5e2a24c22e25",
      "metadata": {
        "tags": [],
        "id": "09f03d33-1a99-4c77-9e25-5e2a24c22e25",
        "outputId": "2b40d888-f2a0-49da-8684-2c439841fa74"
      },
      "outputs": [
        {
          "data": {
            "text/plain": [
              "(1, 2, 3)"
            ]
          },
          "execution_count": 97,
          "metadata": {},
          "output_type": "execute_result"
        }
      ],
      "source": [
        "t"
      ]
    },
    {
      "cell_type": "code",
      "execution_count": null,
      "id": "50e6356d-77b0-4746-9ef4-6c519ff61019",
      "metadata": {
        "tags": [],
        "id": "50e6356d-77b0-4746-9ef4-6c519ff61019",
        "outputId": "f4682959-531e-431b-cf08-8dfa4a16800e"
      },
      "outputs": [
        {
          "name": "stdout",
          "output_type": "stream",
          "text": [
            "1\n",
            "2\n",
            "3\n"
          ]
        }
      ],
      "source": [
        "print(t[0])\n",
        "print(t[1])\n",
        "print(t[2])"
      ]
    },
    {
      "cell_type": "code",
      "execution_count": null,
      "id": "1f02d5a9-9a69-4010-ae07-15c8f9f1e2a9",
      "metadata": {
        "tags": [],
        "id": "1f02d5a9-9a69-4010-ae07-15c8f9f1e2a9",
        "outputId": "27d1eac5-1398-42d6-ecdb-68ed64380d72"
      },
      "outputs": [
        {
          "data": {
            "text/plain": [
              "(1, 2, 3)"
            ]
          },
          "execution_count": 106,
          "metadata": {},
          "output_type": "execute_result"
        }
      ],
      "source": [
        "t[:]"
      ]
    },
    {
      "cell_type": "code",
      "execution_count": null,
      "id": "640680a4-8854-49ca-8dbd-a4b8d2b0921c",
      "metadata": {
        "tags": [],
        "id": "640680a4-8854-49ca-8dbd-a4b8d2b0921c",
        "outputId": "f733d41e-0e4b-4b13-f277-d75231fa931f"
      },
      "outputs": [
        {
          "data": {
            "text/plain": [
              "(1, 2)"
            ]
          },
          "execution_count": 107,
          "metadata": {},
          "output_type": "execute_result"
        }
      ],
      "source": [
        "t[:-1]"
      ]
    },
    {
      "cell_type": "code",
      "execution_count": null,
      "id": "adef3dd2-0b3e-428a-a7dc-ce66c8d1ab9b",
      "metadata": {
        "tags": [],
        "id": "adef3dd2-0b3e-428a-a7dc-ce66c8d1ab9b"
      },
      "outputs": [],
      "source": [
        "a, b = (1, 2)"
      ]
    },
    {
      "cell_type": "code",
      "execution_count": null,
      "id": "5f9aa7bc-b832-4ee7-9667-031802d17729",
      "metadata": {
        "tags": [],
        "id": "5f9aa7bc-b832-4ee7-9667-031802d17729",
        "outputId": "05f425ed-33f4-4640-c3e7-a56a40406ebf"
      },
      "outputs": [
        {
          "name": "stdout",
          "output_type": "stream",
          "text": [
            "1\n",
            "2\n"
          ]
        }
      ],
      "source": [
        "print(a)\n",
        "print(b)"
      ]
    },
    {
      "cell_type": "markdown",
      "id": "a87aacd7-8173-4ec9-b281-474e3e8c6d18",
      "metadata": {
        "id": "a87aacd7-8173-4ec9-b281-474e3e8c6d18"
      },
      "source": [
        "## Input(), Sets e Booleanos"
      ]
    },
    {
      "cell_type": "code",
      "execution_count": null,
      "id": "24c5f5cb-cef1-4485-9155-1484f138294f",
      "metadata": {
        "tags": [],
        "id": "24c5f5cb-cef1-4485-9155-1484f138294f",
        "outputId": "855c44dd-2645-42f7-dc91-66d62059aa50"
      },
      "outputs": [
        {
          "name": "stdin",
          "output_type": "stream",
          "text": [
            " 20\n"
          ]
        }
      ],
      "source": [
        "x = int(input())"
      ]
    },
    {
      "cell_type": "code",
      "execution_count": null,
      "id": "e77ec531-7c70-4c20-93eb-72d224ba7d31",
      "metadata": {
        "tags": [],
        "id": "e77ec531-7c70-4c20-93eb-72d224ba7d31",
        "outputId": "a7463a68-86bc-45a3-ab31-32427ea7d156"
      },
      "outputs": [
        {
          "data": {
            "text/plain": [
              "20"
            ]
          },
          "execution_count": 44,
          "metadata": {},
          "output_type": "execute_result"
        }
      ],
      "source": [
        "x = 20\n",
        "x"
      ]
    },
    {
      "cell_type": "code",
      "execution_count": null,
      "id": "406235d1-cdb1-4333-aab6-c197f65e69af",
      "metadata": {
        "tags": [],
        "id": "406235d1-cdb1-4333-aab6-c197f65e69af",
        "outputId": "66725dfe-da56-43fc-cbdf-ce5aaec59d7a"
      },
      "outputs": [
        {
          "data": {
            "text/plain": [
              "20"
            ]
          },
          "execution_count": 9,
          "metadata": {},
          "output_type": "execute_result"
        }
      ],
      "source": [
        "int(x)"
      ]
    },
    {
      "cell_type": "code",
      "execution_count": null,
      "id": "3a1e7aba-782d-4ead-b5be-be2ce1c885d0",
      "metadata": {
        "tags": [],
        "id": "3a1e7aba-782d-4ead-b5be-be2ce1c885d0",
        "outputId": "ab88dc5e-b355-4b06-9c06-6572a1e17f66"
      },
      "outputs": [
        {
          "data": {
            "text/plain": [
              "20.0"
            ]
          },
          "execution_count": 45,
          "metadata": {},
          "output_type": "execute_result"
        }
      ],
      "source": [
        "float(x)"
      ]
    },
    {
      "cell_type": "markdown",
      "id": "d97fd991-c74b-42bd-bbf4-5ca28a064296",
      "metadata": {
        "id": "d97fd991-c74b-42bd-bbf4-5ca28a064296"
      },
      "source": [
        "## Sets"
      ]
    },
    {
      "cell_type": "code",
      "execution_count": null,
      "id": "ed8cf7c3-2391-4b78-bff0-6306efd15cdf",
      "metadata": {
        "tags": [],
        "id": "ed8cf7c3-2391-4b78-bff0-6306efd15cdf"
      },
      "outputs": [],
      "source": [
        "w = 1"
      ]
    },
    {
      "cell_type": "code",
      "execution_count": null,
      "id": "ffc2a426-4cb4-4ff9-b69d-c3688e77e855",
      "metadata": {
        "tags": [],
        "id": "ffc2a426-4cb4-4ff9-b69d-c3688e77e855",
        "outputId": "338e27f6-bdce-41bb-dd59-88d2c961793f"
      },
      "outputs": [
        {
          "data": {
            "text/plain": [
              "set()"
            ]
          },
          "execution_count": 20,
          "metadata": {},
          "output_type": "execute_result"
        }
      ],
      "source": [
        "w = set()\n",
        "w"
      ]
    },
    {
      "cell_type": "code",
      "execution_count": null,
      "id": "43c09ac5-cf0c-4e3c-869b-18e5830b3604",
      "metadata": {
        "tags": [],
        "id": "43c09ac5-cf0c-4e3c-869b-18e5830b3604",
        "outputId": "59872f49-1b01-44fa-f4b4-f199d594ad4f"
      },
      "outputs": [
        {
          "data": {
            "text/plain": [
              "{1, 2, 3, 4}"
            ]
          },
          "execution_count": 37,
          "metadata": {},
          "output_type": "execute_result"
        }
      ],
      "source": [
        "w.add(3) ## nao adiciona o mesmo numero\n",
        "w"
      ]
    },
    {
      "cell_type": "code",
      "execution_count": null,
      "id": "7830c9f0-05b9-4321-be9a-5b6946f2d126",
      "metadata": {
        "tags": [],
        "id": "7830c9f0-05b9-4321-be9a-5b6946f2d126",
        "outputId": "75d641f5-9aae-4268-dce9-419b779d892b"
      },
      "outputs": [
        {
          "data": {
            "text/plain": [
              "set()"
            ]
          },
          "execution_count": 28,
          "metadata": {},
          "output_type": "execute_result"
        }
      ],
      "source": [
        "z = set()\n",
        "z"
      ]
    },
    {
      "cell_type": "code",
      "execution_count": null,
      "id": "267ab437-59e8-491b-b93c-9395871b61c2",
      "metadata": {
        "tags": [],
        "id": "267ab437-59e8-491b-b93c-9395871b61c2",
        "outputId": "056a3272-1934-4cfc-907b-71ea25c5c991"
      },
      "outputs": [
        {
          "data": {
            "text/plain": [
              "{4, 5, 6}"
            ]
          },
          "execution_count": 33,
          "metadata": {},
          "output_type": "execute_result"
        }
      ],
      "source": [
        "z.add(6)\n",
        "z"
      ]
    },
    {
      "cell_type": "code",
      "execution_count": null,
      "id": "b4d7c73a-c962-4233-9548-83be47e305b2",
      "metadata": {
        "tags": [],
        "id": "b4d7c73a-c962-4233-9548-83be47e305b2",
        "outputId": "097cfa16-1d80-4fd8-b8ac-313e25597bc6"
      },
      "outputs": [
        {
          "data": {
            "text/plain": [
              "{1, 2, 3, 4, 5, 6}"
            ]
          },
          "execution_count": 38,
          "metadata": {},
          "output_type": "execute_result"
        }
      ],
      "source": [
        "z.union(w)"
      ]
    },
    {
      "cell_type": "code",
      "execution_count": null,
      "id": "117b78d9-4b88-49fb-aae5-7cd0938e3a59",
      "metadata": {
        "tags": [],
        "id": "117b78d9-4b88-49fb-aae5-7cd0938e3a59",
        "outputId": "3ddfae7c-65ec-4ad2-9a01-8b7a1c1554be"
      },
      "outputs": [
        {
          "data": {
            "text/plain": [
              "{4}"
            ]
          },
          "execution_count": 34,
          "metadata": {},
          "output_type": "execute_result"
        }
      ],
      "source": [
        "z.intersection(w)"
      ]
    },
    {
      "cell_type": "code",
      "execution_count": null,
      "id": "92a47c4c-5903-495e-8a32-e7e49d47c611",
      "metadata": {
        "tags": [],
        "id": "92a47c4c-5903-495e-8a32-e7e49d47c611",
        "outputId": "4aa5f6a1-f225-47b8-8240-844744e94a61"
      },
      "outputs": [
        {
          "data": {
            "text/plain": [
              "set"
            ]
          },
          "execution_count": 40,
          "metadata": {},
          "output_type": "execute_result"
        }
      ],
      "source": [
        "type(z)"
      ]
    },
    {
      "cell_type": "markdown",
      "id": "bfac8d21-c0cf-4c46-ae81-46a5346de03e",
      "metadata": {
        "id": "bfac8d21-c0cf-4c46-ae81-46a5346de03e"
      },
      "source": [
        "## bool"
      ]
    },
    {
      "cell_type": "code",
      "execution_count": null,
      "id": "e9a3f51d-1394-4835-be4a-e117be863ddc",
      "metadata": {
        "tags": [],
        "id": "e9a3f51d-1394-4835-be4a-e117be863ddc",
        "outputId": "96cfc948-850a-46b2-aeb5-99092d61959a"
      },
      "outputs": [
        {
          "name": "stdout",
          "output_type": "stream",
          "text": [
            "True\n",
            "False\n"
          ]
        }
      ],
      "source": [
        "x = True\n",
        "y = False\n",
        "print(x)\n",
        "print(y)"
      ]
    },
    {
      "cell_type": "code",
      "execution_count": null,
      "id": "347389ce-db17-4511-a6f7-330729af7ebc",
      "metadata": {
        "tags": [],
        "id": "347389ce-db17-4511-a6f7-330729af7ebc",
        "outputId": "5b3105ee-17c6-4739-b558-9df44daf1c88"
      },
      "outputs": [
        {
          "data": {
            "text/plain": [
              "False"
            ]
          },
          "execution_count": 47,
          "metadata": {},
          "output_type": "execute_result"
        }
      ],
      "source": [
        "1>3"
      ]
    },
    {
      "cell_type": "code",
      "execution_count": null,
      "id": "14a7c78d-f868-400b-aafc-dc72b4d95cf9",
      "metadata": {
        "tags": [],
        "id": "14a7c78d-f868-400b-aafc-dc72b4d95cf9",
        "outputId": "ceaca6a1-6610-496e-bcc3-6c05062a6e36"
      },
      "outputs": [
        {
          "data": {
            "text/plain": [
              "bool"
            ]
          },
          "execution_count": 48,
          "metadata": {},
          "output_type": "execute_result"
        }
      ],
      "source": [
        "type(x)"
      ]
    },
    {
      "cell_type": "code",
      "execution_count": null,
      "id": "48c32b3e-8f99-4dd0-a030-1b053b253713",
      "metadata": {
        "tags": [],
        "id": "48c32b3e-8f99-4dd0-a030-1b053b253713",
        "outputId": "429581a6-4aab-4157-cd50-6d32f1715077"
      },
      "outputs": [
        {
          "name": "stdout",
          "output_type": "stream",
          "text": [
            "True\n",
            "False\n"
          ]
        }
      ],
      "source": [
        "# detalhes\n",
        "x = 1 # atribuição\n",
        "print(1 == 1) # igualdade\n",
        "\n",
        "# diferença\n",
        "print(1 != 1)"
      ]
    },
    {
      "cell_type": "markdown",
      "id": "48e12b45-1808-48fd-a503-e222811afc9d",
      "metadata": {
        "tags": [],
        "id": "48e12b45-1808-48fd-a503-e222811afc9d"
      },
      "source": [
        "## ATV"
      ]
    },
    {
      "cell_type": "code",
      "execution_count": null,
      "id": "f7fb6335-62fc-49bc-a05f-fb80605d667c",
      "metadata": {
        "tags": [],
        "id": "f7fb6335-62fc-49bc-a05f-fb80605d667c",
        "outputId": "e1127430-75ea-4961-b737-340b0e4f9bfe"
      },
      "outputs": [
        {
          "name": "stdout",
          "output_type": "stream",
          "text": [
            "bem vindo a calculadora de imc\n",
            "qual a sua altura em m?\n"
          ]
        },
        {
          "name": "stdin",
          "output_type": "stream",
          "text": [
            " 1.78\n"
          ]
        },
        {
          "name": "stdout",
          "output_type": "stream",
          "text": [
            "qual o seu peso?\n"
          ]
        },
        {
          "name": "stdin",
          "output_type": "stream",
          "text": [
            " 78\n"
          ]
        },
        {
          "name": "stdout",
          "output_type": "stream",
          "text": [
            "CALCULANDO...\n",
            "===============\n",
            "seu imc é 24.62\n"
          ]
        }
      ],
      "source": [
        "import time\n",
        "print(\"bem vindo a calculadora de imc\")\n",
        "print(\"qual a sua altura em m?\")\n",
        "altura = float(input())\n",
        "print(\"qual o seu peso?\")\n",
        "peso = float(input())\n",
        "\n",
        "print(\"CALCULANDO...\")\n",
        "time.sleep(1)\n",
        "print(\"===============\")\n",
        "print(\"seu imc é {:.2f}\".format(peso/altura**2))"
      ]
    },
    {
      "cell_type": "code",
      "execution_count": null,
      "id": "10ba8c8b-477f-482c-b2ee-673ef84f614b",
      "metadata": {
        "tags": [],
        "id": "10ba8c8b-477f-482c-b2ee-673ef84f614b",
        "outputId": "a0440028-9845-4518-92a2-aac43fa04047"
      },
      "outputs": [
        {
          "name": "stdin",
          "output_type": "stream",
          "text": [
            "Qual a sua altura?  1.75\n",
            "Qual o seu peso?  78\n"
          ]
        },
        {
          "name": "stdout",
          "output_type": "stream",
          "text": [
            "seu imc é 25.46938775510204\n"
          ]
        }
      ],
      "source": [
        "a = float(input(\"Qual a sua altura? \"))\n",
        "b = float(input(\"Qual o seu peso? \"))\n",
        "imc = b / (a ** 2)\n",
        "print(\"seu imc é {}\".format(imc))"
      ]
    },
    {
      "cell_type": "code",
      "execution_count": null,
      "id": "26b2b7be-2528-45ed-a456-81a8359ac4e8",
      "metadata": {
        "tags": [],
        "id": "26b2b7be-2528-45ed-a456-81a8359ac4e8",
        "outputId": "d7ac6f82-7805-4add-817a-a4517b7bf70f"
      },
      "outputs": [
        {
          "name": "stdin",
          "output_type": "stream",
          "text": [
            "Qual o seu nome completo?  nicolas kalebe menezes da silva\n"
          ]
        },
        {
          "name": "stdout",
          "output_type": "stream",
          "text": [
            "Prazer em tê-lo em nossa plataforma, nicolas!\n"
          ]
        }
      ],
      "source": [
        "a = input(\"Qual o seu nome completo? \")\n",
        "print(f\"Prazer em tê-lo em nossa plataforma, {a.split()[0]}!\")"
      ]
    },
    {
      "cell_type": "code",
      "execution_count": null,
      "id": "403767c6-c895-4760-a0ca-1f93b9625c55",
      "metadata": {
        "tags": [],
        "id": "403767c6-c895-4760-a0ca-1f93b9625c55",
        "outputId": "268ced4d-021e-4aad-adf7-018be9da0cb1"
      },
      "outputs": [
        {
          "name": "stdin",
          "output_type": "stream",
          "text": [
            "digite seu email:  nicolaskalebe223@gmail.com\n"
          ]
        },
        {
          "name": "stdout",
          "output_type": "stream",
          "text": [
            "o seu dominio é gmail.com\n"
          ]
        }
      ],
      "source": [
        "a = input(\"digite seu email: \")\n",
        "c = a.split(\"@\")[-1]\n",
        "print(\"o seu dominio é {}\".format(c))"
      ]
    },
    {
      "cell_type": "code",
      "execution_count": null,
      "id": "3a5d383d-ca5f-418d-ac4a-5d5620f56b81",
      "metadata": {
        "id": "3a5d383d-ca5f-418d-ac4a-5d5620f56b81",
        "outputId": "9730b942-1986-4a00-fd4a-d7b814ccdb3f"
      },
      "outputs": [
        {
          "name": "stdin",
          "output_type": "stream",
          "text": [
            "informe a qtde de m² de pintura:  300\n"
          ]
        },
        {
          "name": "stdout",
          "output_type": "stream",
          "text": [
            "a qtde de latas que precisam é de 5 e o valor total será de R$400\n"
          ]
        }
      ],
      "source": [
        "a = float(input(\"informe a qtde de m² de pintura: \"))\n",
        "m2 = float(a / 3)\n",
        "lts = int(m2 / 18)\n",
        "valor = lts * 80\n",
        "\n",
        "print(\"a qtde de latas que precisam é de {} e o valor total será de R${}\".format(lts, valor))"
      ]
    },
    {
      "cell_type": "code",
      "execution_count": null,
      "id": "64b5e6e0-4ac0-4d72-9d6e-243d48336b29",
      "metadata": {
        "tags": [],
        "id": "64b5e6e0-4ac0-4d72-9d6e-243d48336b29",
        "outputId": "942c0149-b3be-4348-e1d4-a3eb6cb04326"
      },
      "outputs": [
        {
          "name": "stdin",
          "output_type": "stream",
          "text": [
            "Quanto vc ganha por hora?  9\n",
            "Quantas horas vc trabalhou este mês?  192\n"
          ]
        },
        {
          "name": "stdout",
          "output_type": "stream",
          "text": [
            "vc ganha R$1728.00 bruto, paga R$123.03 ao inss, paga R$70.74 ao sindicato e recebe liquido R$1344.14.\n"
          ]
        }
      ],
      "source": [
        "verba = float(input(\"Quanto vc ganha por hora? \"))\n",
        "verbatotal = float(input(\"Quantas horas vc trabalhou este mês? \"))\n",
        "salario = verba * verbatotal\n",
        "ir = salario * 0.11\n",
        "inss = (salario - ir) * 0.08\n",
        "sindicato = (salario - ir - inss) * 0.05\n",
        "liquido = salario - (ir + inss + sindicato)\n",
        "print(\"vc ganha R${:.2f} bruto, paga R${:.2f} ao inss, paga R${:.2f} ao sindicato e recebe liquido R${:.2f}.\".format(salario, inss, sindicato, liquido))"
      ]
    },
    {
      "cell_type": "markdown",
      "id": "40a317b3-0748-4a1b-bd8d-c751e5f570a3",
      "metadata": {
        "id": "40a317b3-0748-4a1b-bd8d-c751e5f570a3"
      },
      "source": [
        "## if, elif e else"
      ]
    },
    {
      "cell_type": "code",
      "execution_count": null,
      "id": "dc679544-8973-467a-a5f8-698116abdd0f",
      "metadata": {
        "tags": [],
        "id": "dc679544-8973-467a-a5f8-698116abdd0f",
        "outputId": "ece5950c-e8c8-4caf-c48c-757b1c444b0b"
      },
      "outputs": [
        {
          "name": "stdout",
          "output_type": "stream",
          "text": [
            "corinthians será rebaixado\n",
            "corinthians será rebaixado\n",
            "série b\n",
            "corinthians será rebaixado\n"
          ]
        }
      ],
      "source": [
        "pts = 29\n",
        "\n",
        "if pts >= 80:\n",
        "    print(\"corinthians é campeão\")\n",
        "\n",
        "elif pts < 45:\n",
        "    print(\"corinthians será rebaixado\")\n",
        "    print(\"corinthians será rebaixado\")\n",
        "    if pts < 30:\n",
        "        print(\"série b\")\n",
        "    print(\"corinthians será rebaixado\")\n",
        "\n",
        "else:\n",
        "    print(\"corinthians está no meio da tabela\")"
      ]
    },
    {
      "cell_type": "markdown",
      "id": "993b1582-4763-48bf-8212-3910a463a5d6",
      "metadata": {
        "id": "993b1582-4763-48bf-8212-3910a463a5d6"
      },
      "source": [
        "## for"
      ]
    },
    {
      "cell_type": "code",
      "execution_count": null,
      "id": "778b819a-8cdf-495d-b421-874eae1d24da",
      "metadata": {
        "tags": [],
        "id": "778b819a-8cdf-495d-b421-874eae1d24da",
        "outputId": "5747ed28-a9d2-438e-f453-d9d9aab20e7d"
      },
      "outputs": [
        {
          "data": {
            "text/plain": [
              "[0, 1, 2, 3, 4, 5, 6, 7, 8, 9]"
            ]
          },
          "execution_count": 41,
          "metadata": {},
          "output_type": "execute_result"
        }
      ],
      "source": [
        "list(range(10))"
      ]
    },
    {
      "cell_type": "code",
      "execution_count": null,
      "id": "e6fc34e9-cc70-4807-9e56-6927e9605fc8",
      "metadata": {
        "scrolled": true,
        "tags": [],
        "id": "e6fc34e9-cc70-4807-9e56-6927e9605fc8",
        "outputId": "84d21261-773d-49e0-fa9d-502532632906"
      },
      "outputs": [
        {
          "name": "stdout",
          "output_type": "stream",
          "text": [
            "0\n",
            "1\n",
            "2\n",
            "3\n",
            "4\n",
            "5\n",
            "6\n",
            "7\n",
            "8\n",
            "9\n"
          ]
        }
      ],
      "source": [
        "for i in range(10):\n",
        "    print(i)"
      ]
    },
    {
      "cell_type": "code",
      "execution_count": null,
      "id": "5b5df0e7-7d20-42fe-96f9-5d0e4741e1a8",
      "metadata": {
        "scrolled": true,
        "tags": [],
        "id": "5b5df0e7-7d20-42fe-96f9-5d0e4741e1a8",
        "outputId": "3a69adec-e74a-479e-f75c-0048244d22eb"
      },
      "outputs": [
        {
          "name": "stdout",
          "output_type": "stream",
          "text": [
            "k\n",
            "a\n",
            "l\n",
            "e\n",
            "b\n",
            "e\n",
            "0\n",
            "1\n",
            "2\n",
            "3\n",
            "4\n",
            "5\n",
            "6\n"
          ]
        }
      ],
      "source": [
        "eu = \"kalebe\"\n",
        "lista = [0,1,2,3,4,5,6]\n",
        "\n",
        "for i in eu:\n",
        "    print(i)\n",
        "for i in lista:\n",
        "    print(i)"
      ]
    },
    {
      "cell_type": "code",
      "execution_count": null,
      "id": "5fc3a84d-05ba-40e9-9878-9bd58b77a1b9",
      "metadata": {
        "scrolled": true,
        "tags": [],
        "id": "5fc3a84d-05ba-40e9-9878-9bd58b77a1b9",
        "outputId": "d880ed79-1eeb-4f8f-d79b-21aa10f196e2"
      },
      "outputs": [
        {
          "name": "stdout",
          "output_type": "stream",
          "text": [
            "1 é impar\n",
            "3 é impar\n",
            "5 é impar\n",
            "7 é impar\n",
            "9 é impar\n",
            "11 é impar\n",
            "13 é impar\n",
            "15 é impar\n",
            "17 é impar\n",
            "19 é impar\n",
            "21 é impar\n",
            "23 é impar\n",
            "25 é impar\n",
            "27 é impar\n",
            "29 é impar\n",
            "31 é impar\n",
            "33 é impar\n",
            "35 é impar\n",
            "37 é impar\n",
            "39 é impar\n",
            "41 é impar\n",
            "43 é impar\n",
            "45 é impar\n",
            "47 é impar\n",
            "49 é impar\n",
            "51 é impar\n",
            "53 é impar\n",
            "55 é impar\n",
            "57 é impar\n",
            "59 é impar\n",
            "61 é impar\n",
            "63 é impar\n",
            "65 é impar\n",
            "67 é impar\n",
            "69 é impar\n",
            "71 é impar\n",
            "73 é impar\n",
            "75 é impar\n",
            "77 é impar\n",
            "79 é impar\n",
            "81 é impar\n",
            "83 é impar\n",
            "85 é impar\n",
            "87 é impar\n",
            "89 é impar\n",
            "91 é impar\n",
            "93 é impar\n",
            "95 é impar\n",
            "97 é impar\n",
            "99 é impar\n"
          ]
        }
      ],
      "source": [
        "for i in range(100):\n",
        "    if i % 2 == 1:\n",
        "        print(\"{} é impar\".format(i))"
      ]
    },
    {
      "cell_type": "markdown",
      "id": "6cf2fc33-1773-41bb-bf03-9271444ac7e2",
      "metadata": {
        "id": "6cf2fc33-1773-41bb-bf03-9271444ac7e2"
      },
      "source": [
        "## while"
      ]
    },
    {
      "cell_type": "code",
      "execution_count": null,
      "id": "667e6f2b-b28a-43b0-989d-082c567b3486",
      "metadata": {
        "tags": [],
        "id": "667e6f2b-b28a-43b0-989d-082c567b3486",
        "outputId": "14419c3b-bc2d-48bd-a11d-2ac09f76090d"
      },
      "outputs": [
        {
          "name": "stdout",
          "output_type": "stream",
          "text": [
            "o valor de x é 0\n",
            "1 ainda é menor que 10\n",
            "o valor de x é 1\n",
            "2 ainda é menor que 10\n",
            "o valor de x é 2\n",
            "3 ainda é menor que 10\n",
            "o valor de x é 3\n",
            "4 ainda é menor que 10\n",
            "o valor de x é 4\n",
            "5 ainda é menor que 10\n",
            "o valor de x é 5\n",
            "6 ainda é menor que 10\n",
            "o valor de x é 6\n",
            "7 ainda é menor que 10\n",
            "o valor de x é 7\n",
            "8 ainda é menor que 10\n",
            "o valor de x é 8\n",
            "9 ainda é menor que 10\n",
            "o valor de x é 9\n",
            "10 ainda é menor que 10\n",
            "concluido\n"
          ]
        }
      ],
      "source": [
        "x = 0\n",
        "while x < 10:\n",
        "    print(\"o valor de x é {}\".format(x))\n",
        "    x += 1 # x = x + 1\n",
        "    print(\"{} ainda é menor que 10\".format(x))\n",
        "else:\n",
        "    print(\"concluido\")"
      ]
    },
    {
      "cell_type": "code",
      "execution_count": null,
      "id": "2d044555-525b-4e64-963e-a64fdfa798c1",
      "metadata": {
        "tags": [],
        "id": "2d044555-525b-4e64-963e-a64fdfa798c1",
        "outputId": "0ba80b55-a259-4cf1-b729-37679819f1c1"
      },
      "outputs": [
        {
          "name": "stdout",
          "output_type": "stream",
          "text": [
            "o valor de x é 0\n",
            "o valor de x é 1\n",
            "o valor de x é 2\n",
            "o valor de x é 3\n",
            "o valor de x é 4\n",
            "o valor de x é 5\n",
            "o valor de x é 6\n",
            "o valor de x é 7\n",
            "o valor de x é 8\n",
            "o valor de x é 9\n",
            "concluido\n"
          ]
        }
      ],
      "source": [
        "x = 0\n",
        "while x < 10:\n",
        "    print(\"o valor de x é {}\".format(x))\n",
        "    x += 1 # x = x + 1\n",
        "    continue\n",
        "    print(\"{} ainda é menor que 10\".format(x))\n",
        "else:\n",
        "    print(\"concluido\")"
      ]
    },
    {
      "cell_type": "code",
      "execution_count": null,
      "id": "394d0e8f-f6d8-4055-8c90-9b3f594450f3",
      "metadata": {
        "tags": [],
        "id": "394d0e8f-f6d8-4055-8c90-9b3f594450f3",
        "outputId": "a3ed4ba5-03fa-49f2-adc9-163d6be629a6"
      },
      "outputs": [
        {
          "name": "stdout",
          "output_type": "stream",
          "text": [
            "o valor de x é 0\n",
            "1\n"
          ]
        }
      ],
      "source": [
        "x = 0\n",
        "while x < 10:\n",
        "    print(\"o valor de x é {}\".format(x))\n",
        "    x += 1 # x = x + 1\n",
        "    break\n",
        "    print(\"{} ainda é menor que 10\".format(x))\n",
        "else:\n",
        "    print(\"concluido\")\n",
        "print(x)"
      ]
    },
    {
      "cell_type": "markdown",
      "id": "6d994300-2054-40e4-b9f0-43a0a7c765d5",
      "metadata": {
        "id": "6d994300-2054-40e4-b9f0-43a0a7c765d5"
      },
      "source": [
        "## Compreensão em listas"
      ]
    },
    {
      "cell_type": "code",
      "execution_count": null,
      "id": "46eb5cae-fe17-44d3-9f0a-45b5718277bb",
      "metadata": {
        "tags": [],
        "id": "46eb5cae-fe17-44d3-9f0a-45b5718277bb"
      },
      "outputs": [],
      "source": [
        "casa = \"casa\""
      ]
    },
    {
      "cell_type": "code",
      "execution_count": null,
      "id": "bec79761-dd1e-4831-863b-2b82321fd38c",
      "metadata": {
        "tags": [],
        "id": "bec79761-dd1e-4831-863b-2b82321fd38c"
      },
      "outputs": [],
      "source": [
        "a = []\n",
        "for i in casa:\n",
        "    a.append(i)"
      ]
    },
    {
      "cell_type": "code",
      "execution_count": null,
      "id": "20e140ce-9654-4ae5-89dd-0d808c7f3fe6",
      "metadata": {
        "tags": [],
        "id": "20e140ce-9654-4ae5-89dd-0d808c7f3fe6",
        "outputId": "60170fac-fa73-40c2-e368-d9898a9bfa81"
      },
      "outputs": [
        {
          "data": {
            "text/plain": [
              "['c', 'a', 's', 'a']"
            ]
          },
          "execution_count": 5,
          "metadata": {},
          "output_type": "execute_result"
        }
      ],
      "source": [
        "a"
      ]
    },
    {
      "cell_type": "code",
      "execution_count": null,
      "id": "ce52ea7b-f554-451c-8611-c53b897accbb",
      "metadata": {
        "tags": [],
        "id": "ce52ea7b-f554-451c-8611-c53b897accbb"
      },
      "outputs": [],
      "source": [
        "listacasa = [i for i in casa]"
      ]
    },
    {
      "cell_type": "code",
      "execution_count": null,
      "id": "86504bd6-302e-453e-a13b-4147990b335e",
      "metadata": {
        "tags": [],
        "id": "86504bd6-302e-453e-a13b-4147990b335e",
        "outputId": "aa68d049-37e5-4900-ad64-a5dca21cc73c"
      },
      "outputs": [
        {
          "data": {
            "text/plain": [
              "['c', 'a', 's', 'a']"
            ]
          },
          "execution_count": 7,
          "metadata": {},
          "output_type": "execute_result"
        }
      ],
      "source": [
        "listacasa"
      ]
    },
    {
      "cell_type": "code",
      "execution_count": null,
      "id": "4dfc0cac-5823-4f6e-b2f7-5b3081a48276",
      "metadata": {
        "tags": [],
        "id": "4dfc0cac-5823-4f6e-b2f7-5b3081a48276"
      },
      "outputs": [],
      "source": [
        "qdo = [i/2 for i in range(11)]"
      ]
    },
    {
      "cell_type": "code",
      "execution_count": null,
      "id": "e61db0a0-ec86-411f-b072-23d95b2a30dc",
      "metadata": {
        "tags": [],
        "id": "e61db0a0-ec86-411f-b072-23d95b2a30dc",
        "outputId": "f81f2606-ecc1-444a-9c3b-6626fc20b61e"
      },
      "outputs": [
        {
          "data": {
            "text/plain": [
              "[0.0, 0.5, 1.0, 1.5, 2.0, 2.5, 3.0, 3.5, 4.0, 4.5, 5.0]"
            ]
          },
          "execution_count": 11,
          "metadata": {},
          "output_type": "execute_result"
        }
      ],
      "source": [
        "qdo"
      ]
    },
    {
      "cell_type": "code",
      "execution_count": null,
      "id": "3ba290b1-1596-4e5f-b645-c256da71c654",
      "metadata": {
        "tags": [],
        "id": "3ba290b1-1596-4e5f-b645-c256da71c654"
      },
      "outputs": [],
      "source": [
        "z = []\n",
        "for i in range(11):\n",
        "    z.append(i/2)"
      ]
    },
    {
      "cell_type": "code",
      "execution_count": null,
      "id": "d200a210-ab1d-4420-abe8-3d217e297d3c",
      "metadata": {
        "tags": [],
        "id": "d200a210-ab1d-4420-abe8-3d217e297d3c",
        "outputId": "9ea6f8e0-c3a0-4d10-f29e-3f1f34c6b4ad"
      },
      "outputs": [
        {
          "data": {
            "text/plain": [
              "[0.0, 0.5, 1.0, 1.5, 2.0, 2.5, 3.0, 3.5, 4.0, 4.5, 5.0]"
            ]
          },
          "execution_count": 15,
          "metadata": {},
          "output_type": "execute_result"
        }
      ],
      "source": [
        "z"
      ]
    },
    {
      "cell_type": "code",
      "execution_count": null,
      "id": "b9dc6c92-0a80-477d-9785-27b0b94f6b17",
      "metadata": {
        "tags": [],
        "id": "b9dc6c92-0a80-477d-9785-27b0b94f6b17",
        "outputId": "f96eecfd-8991-49e4-968b-877a81911e5f"
      },
      "outputs": [
        {
          "data": {
            "text/plain": [
              "[0, 4, 16, 36, 64, 100]"
            ]
          },
          "execution_count": 17,
          "metadata": {},
          "output_type": "execute_result"
        }
      ],
      "source": [
        "num = [i**2 for i in range(11) if i % 2 == 0]\n",
        "num"
      ]
    },
    {
      "cell_type": "code",
      "execution_count": null,
      "id": "05a95e9e-2119-4ea2-8dd7-872bc9ebdf02",
      "metadata": {
        "tags": [],
        "id": "05a95e9e-2119-4ea2-8dd7-872bc9ebdf02",
        "outputId": "1ca76241-49e8-4b20-a377-667280b379ca"
      },
      "outputs": [
        {
          "data": {
            "text/plain": [
              "['2', '6', '10', '14', '18']"
            ]
          },
          "execution_count": 20,
          "metadata": {},
          "output_type": "execute_result"
        }
      ],
      "source": [
        "num = [str(i*2) for i in range(11) if i % 2 == 1]\n",
        "num"
      ]
    },
    {
      "cell_type": "markdown",
      "id": "f31a88af-ff2b-4570-912a-6f04ddaa1642",
      "metadata": {
        "id": "f31a88af-ff2b-4570-912a-6f04ddaa1642"
      },
      "source": [
        "## funções"
      ]
    },
    {
      "cell_type": "code",
      "execution_count": null,
      "id": "2b204fd2-2cc9-48fb-8761-f349eb806b75",
      "metadata": {
        "tags": [],
        "id": "2b204fd2-2cc9-48fb-8761-f349eb806b75"
      },
      "outputs": [],
      "source": [
        "def oi():\n",
        "    a = 1\n",
        "    print(\"oi\")"
      ]
    },
    {
      "cell_type": "code",
      "execution_count": null,
      "id": "7aa2347e-c2d5-4c4a-a39c-ce168b782c8e",
      "metadata": {
        "tags": [],
        "id": "7aa2347e-c2d5-4c4a-a39c-ce168b782c8e",
        "outputId": "b15fb094-f720-4682-cead-cdc7e1897ea5"
      },
      "outputs": [
        {
          "data": {
            "text/plain": [
              "<function __main__.oi()>"
            ]
          },
          "execution_count": 25,
          "metadata": {},
          "output_type": "execute_result"
        }
      ],
      "source": [
        "oi"
      ]
    },
    {
      "cell_type": "code",
      "execution_count": null,
      "id": "b827a123-f431-477f-abf8-f4333cd4c445",
      "metadata": {
        "tags": [],
        "id": "b827a123-f431-477f-abf8-f4333cd4c445",
        "outputId": "85e9d268-24e3-4a8c-d0d3-20b5e15e3be3"
      },
      "outputs": [
        {
          "name": "stdout",
          "output_type": "stream",
          "text": [
            "<function oi at 0x00000208ABA3FC40>\n"
          ]
        }
      ],
      "source": [
        "print(oi)"
      ]
    },
    {
      "cell_type": "code",
      "execution_count": null,
      "id": "e16b0dd2-324b-4a84-aa1b-ad96b2c00918",
      "metadata": {
        "tags": [],
        "id": "e16b0dd2-324b-4a84-aa1b-ad96b2c00918",
        "outputId": "1a07d21b-4949-48fe-dbf4-cdb59b49e5cc"
      },
      "outputs": [
        {
          "name": "stdout",
          "output_type": "stream",
          "text": [
            "oi\n"
          ]
        }
      ],
      "source": [
        "oi()"
      ]
    },
    {
      "cell_type": "code",
      "execution_count": null,
      "id": "c6f0533a-def4-4613-9a1f-a6e14fc08d15",
      "metadata": {
        "tags": [],
        "id": "c6f0533a-def4-4613-9a1f-a6e14fc08d15",
        "outputId": "04e26eac-e68b-45cb-82ff-df830fa2d187"
      },
      "outputs": [
        {
          "name": "stdout",
          "output_type": "stream",
          "text": [
            "oi\n",
            "None\n"
          ]
        }
      ],
      "source": [
        "print(oi())"
      ]
    },
    {
      "cell_type": "code",
      "execution_count": null,
      "id": "bf794a2c-7a7f-4b1e-8120-e3ee3bd89aae",
      "metadata": {
        "tags": [],
        "id": "bf794a2c-7a7f-4b1e-8120-e3ee3bd89aae"
      },
      "outputs": [],
      "source": [
        "def adicao(x, y):\n",
        "    print(\"o valor é {}.\".format(x+y))"
      ]
    },
    {
      "cell_type": "code",
      "execution_count": null,
      "id": "c89aa94f-17e5-4082-978d-fe35eea23def",
      "metadata": {
        "tags": [],
        "id": "c89aa94f-17e5-4082-978d-fe35eea23def",
        "outputId": "772bf988-9312-45a0-cc74-3979c6028fc5"
      },
      "outputs": [
        {
          "name": "stdout",
          "output_type": "stream",
          "text": [
            "o valor é 4.\n"
          ]
        }
      ],
      "source": [
        "adicao(1, 3)"
      ]
    },
    {
      "cell_type": "code",
      "execution_count": null,
      "id": "7eeb4e64-5575-471e-957f-eb1870ec19ea",
      "metadata": {
        "tags": [],
        "id": "7eeb4e64-5575-471e-957f-eb1870ec19ea"
      },
      "outputs": [],
      "source": [
        "def intervalopar(x):\n",
        "    return [i for i in range(x) if i % 2 == 0]"
      ]
    },
    {
      "cell_type": "code",
      "execution_count": null,
      "id": "062f27dc-1df6-4214-b00d-a687d78fe583",
      "metadata": {
        "tags": [],
        "id": "062f27dc-1df6-4214-b00d-a687d78fe583",
        "outputId": "38867c53-a15c-4556-f428-eb563bb9dec9"
      },
      "outputs": [
        {
          "name": "stdin",
          "output_type": "stream",
          "text": [
            "digite um intervalo de números pares:  10\n"
          ]
        },
        {
          "data": {
            "text/plain": [
              "[0, 2, 4, 6, 8]"
            ]
          },
          "execution_count": 47,
          "metadata": {},
          "output_type": "execute_result"
        }
      ],
      "source": [
        "x = int(input(\"digite um intervalo de números pares: \"))\n",
        "intervalopar(x)"
      ]
    },
    {
      "cell_type": "code",
      "execution_count": null,
      "id": "9478de50-0b2c-49fa-aa4f-9d335d111c49",
      "metadata": {
        "tags": [],
        "id": "9478de50-0b2c-49fa-aa4f-9d335d111c49",
        "outputId": "f0e74677-4d53-4ea1-ce27-c9d189a4ad3d"
      },
      "outputs": [
        {
          "data": {
            "text/plain": [
              "['0', '2', '4', '6', '8', '10', '12', '14', '16', '18']"
            ]
          },
          "execution_count": 44,
          "metadata": {},
          "output_type": "execute_result"
        }
      ],
      "source": [
        "intervalopar(19)"
      ]
    },
    {
      "cell_type": "code",
      "execution_count": null,
      "id": "0f646c9c-224d-46ed-a42e-03f5e739fa98",
      "metadata": {
        "tags": [],
        "id": "0f646c9c-224d-46ed-a42e-03f5e739fa98",
        "outputId": "f57d8e01-0b17-48f6-9f43-31568a6ab700"
      },
      "outputs": [
        {
          "data": {
            "text/plain": [
              "function"
            ]
          },
          "execution_count": 48,
          "metadata": {},
          "output_type": "execute_result"
        }
      ],
      "source": [
        "type(intervalopar)"
      ]
    },
    {
      "cell_type": "code",
      "execution_count": null,
      "id": "12c9b8af-fede-4120-ac2f-8ab63fd09317",
      "metadata": {
        "tags": [],
        "id": "12c9b8af-fede-4120-ac2f-8ab63fd09317",
        "outputId": "0aeb281c-3c01-4ce0-fa2d-71b985baa6a9"
      },
      "outputs": [
        {
          "data": {
            "text/plain": [
              "list"
            ]
          },
          "execution_count": 50,
          "metadata": {},
          "output_type": "execute_result"
        }
      ],
      "source": [
        "type(intervalopar(1))"
      ]
    },
    {
      "cell_type": "code",
      "execution_count": null,
      "id": "99e7e8e3-a7d3-4f8a-86af-42db55a2c3c6",
      "metadata": {
        "tags": [],
        "id": "99e7e8e3-a7d3-4f8a-86af-42db55a2c3c6",
        "outputId": "5d30ae95-4b2a-495e-8feb-ed5ab16bff9e"
      },
      "outputs": [
        {
          "name": "stdout",
          "output_type": "stream",
          "text": [
            "oi\n"
          ]
        },
        {
          "data": {
            "text/plain": [
              "NoneType"
            ]
          },
          "execution_count": 55,
          "metadata": {},
          "output_type": "execute_result"
        }
      ],
      "source": [
        "type(oi())"
      ]
    },
    {
      "cell_type": "markdown",
      "id": "706be024-3d6f-4c25-a07d-872c053b8e21",
      "metadata": {
        "id": "706be024-3d6f-4c25-a07d-872c053b8e21"
      },
      "source": [
        "## lambda"
      ]
    },
    {
      "cell_type": "code",
      "execution_count": null,
      "id": "3c1ebbd3-b126-4cff-b292-c6796d4d51fb",
      "metadata": {
        "tags": [],
        "id": "3c1ebbd3-b126-4cff-b292-c6796d4d51fb"
      },
      "outputs": [],
      "source": [
        "def quadrado(x):\n",
        "    return x ** 2"
      ]
    },
    {
      "cell_type": "code",
      "execution_count": null,
      "id": "d114a57b-fb43-4699-b977-fb55fa98481f",
      "metadata": {
        "tags": [],
        "id": "d114a57b-fb43-4699-b977-fb55fa98481f",
        "outputId": "8ef86a28-b0c0-4d86-b92e-77284107a355"
      },
      "outputs": [
        {
          "data": {
            "text/plain": [
              "9"
            ]
          },
          "execution_count": 57,
          "metadata": {},
          "output_type": "execute_result"
        }
      ],
      "source": [
        "quadrado(3)"
      ]
    },
    {
      "cell_type": "code",
      "execution_count": null,
      "id": "08594a0c-1326-444d-97e3-ae05951e5135",
      "metadata": {
        "tags": [],
        "id": "08594a0c-1326-444d-97e3-ae05951e5135"
      },
      "outputs": [],
      "source": [
        "a = lambda x: x ** 2 # mesma coisa do def acima"
      ]
    },
    {
      "cell_type": "code",
      "execution_count": null,
      "id": "0b4bf02a-aeb5-45ec-9d91-9778eeb7026b",
      "metadata": {
        "tags": [],
        "id": "0b4bf02a-aeb5-45ec-9d91-9778eeb7026b",
        "outputId": "219d1d95-69c5-4d2a-e40a-f5df9944093f"
      },
      "outputs": [
        {
          "data": {
            "text/plain": [
              "function"
            ]
          },
          "execution_count": 61,
          "metadata": {},
          "output_type": "execute_result"
        }
      ],
      "source": [
        "type(a)"
      ]
    },
    {
      "cell_type": "code",
      "execution_count": null,
      "id": "f2c9112c-baee-46bc-9114-753add8ee81f",
      "metadata": {
        "tags": [],
        "id": "f2c9112c-baee-46bc-9114-753add8ee81f",
        "outputId": "8875fcea-0650-4539-a07f-f36148a5f850"
      },
      "outputs": [
        {
          "data": {
            "text/plain": [
              "100"
            ]
          },
          "execution_count": 63,
          "metadata": {},
          "output_type": "execute_result"
        }
      ],
      "source": [
        "a(10)"
      ]
    },
    {
      "cell_type": "markdown",
      "id": "cdd542eb-3d2c-43eb-b41a-546935844391",
      "metadata": {
        "id": "cdd542eb-3d2c-43eb-b41a-546935844391"
      },
      "source": [
        "## ATV 2"
      ]
    },
    {
      "cell_type": "code",
      "execution_count": null,
      "id": "1baed6e9-4285-49a3-905d-b5e364fcef04",
      "metadata": {
        "tags": [],
        "id": "1baed6e9-4285-49a3-905d-b5e364fcef04",
        "outputId": "339d1a99-a367-43f6-879c-1c0ca99dd105"
      },
      "outputs": [
        {
          "name": "stdin",
          "output_type": "stream",
          "text": [
            "minha primeira nota foi:  10\n",
            "minha segunda nota foi:  9\n"
          ]
        },
        {
          "name": "stdout",
          "output_type": "stream",
          "text": [
            "Aprovado\n"
          ]
        }
      ],
      "source": [
        "nota1 = float(input(\"minha primeira nota foi: \"))\n",
        "nota2 = float(input(\"minha segunda nota foi: \"))\n",
        "media = (nota1 + nota2) / 2\n",
        "\n",
        "if media >= 7:\n",
        "    if media == 10:\n",
        "        print(\"Aprovado com distinção\")\n",
        "    else:\n",
        "        print(\"Aprovado\")\n",
        "elif media < 7:\n",
        "    print(\"Reprovado\")"
      ]
    },
    {
      "cell_type": "code",
      "execution_count": null,
      "id": "95896259-a5c8-47fc-8ffb-f1462f74142b",
      "metadata": {
        "id": "95896259-a5c8-47fc-8ffb-f1462f74142b",
        "outputId": "4abf35e0-be4e-479b-fe32-0084b1680cd3"
      },
      "outputs": [
        {
          "name": "stdin",
          "output_type": "stream",
          "text": [
            "adicione o 1º numero. 100\n",
            "adicione o 2º numero. 1\n",
            "adicione o 3º numero. 90\n"
          ]
        },
        {
          "name": "stdout",
          "output_type": "stream",
          "text": [
            "o maior número é 100\n",
            "o menor número é 1\n"
          ]
        }
      ],
      "source": [
        "lista = []\n",
        "\n",
        "for i in range(3):\n",
        "    x = int(input(f\"adicione o {i+1}º numero.\"))\n",
        "    lista.append(x)\n",
        "\n",
        "lista.sort()\n",
        "print(\"o maior número é {}\".format(max(lista)))\n",
        "print(\"o menor número é {}\".format(min(lista)))"
      ]
    },
    {
      "cell_type": "code",
      "execution_count": null,
      "id": "95839276-3ee1-4edf-bc6c-a37b59111a57",
      "metadata": {
        "tags": [],
        "id": "95839276-3ee1-4edf-bc6c-a37b59111a57",
        "outputId": "36e8fb0a-749d-4b61-ced9-dd8a7d173660"
      },
      "outputs": [
        {
          "name": "stdin",
          "output_type": "stream",
          "text": [
            "digite seu nome:  lebzz\n"
          ]
        },
        {
          "name": "stdout",
          "output_type": "stream",
          "text": [
            "\n",
            "l\n",
            "le\n",
            "leb\n",
            "lebz\n",
            "lebzz\n"
          ]
        }
      ],
      "source": [
        "nome = input(\"digite seu nome: \")\n",
        "for i in range(len(nome) + 1):\n",
        "    print(nome[0:i])"
      ]
    },
    {
      "cell_type": "code",
      "execution_count": null,
      "id": "5a124ac1-1785-4a83-a362-670928dea656",
      "metadata": {
        "id": "5a124ac1-1785-4a83-a362-670928dea656",
        "outputId": "959884b9-86e6-4460-ef6c-2960a2277b33"
      },
      "outputs": [
        {
          "name": "stdin",
          "output_type": "stream",
          "text": [
            " 6\n"
          ]
        },
        {
          "name": "stdout",
          "output_type": "stream",
          "text": [
            "1\n",
            "1\n",
            "2\n",
            "3\n",
            "5\n",
            "8\n",
            "13\n"
          ]
        }
      ],
      "source": [
        "def fibonnaci(x):\n",
        "    inicio = 1\n",
        "    anterior = 0\n",
        "    print(1)\n",
        "    for i in range(x):\n",
        "        proximo_numero = inicio + anterior\n",
        "        anterior = inicio\n",
        "        inicio = proximo_numero\n",
        "        print(inicio)\n",
        "\n",
        "x = int(input())\n",
        "fibonnaci(x)"
      ]
    },
    {
      "cell_type": "code",
      "execution_count": null,
      "id": "28fefe35-4e0b-4631-ae64-5a5f0a81e8e6",
      "metadata": {
        "tags": [],
        "id": "28fefe35-4e0b-4631-ae64-5a5f0a81e8e6",
        "outputId": "0bd0f2cc-6f87-4378-d7db-b4a275326f57"
      },
      "outputs": [
        {
          "name": "stdin",
          "output_type": "stream",
          "text": [
            "digite o seu nome:  kalebe\n",
            "digite sua idade:  15\n",
            "digite seu salario: R$ 5000\n",
            "digite seu sexo em f ou m:  m\n",
            "informe seu estado civil:  c\n"
          ]
        }
      ],
      "source": [
        "nome = input(\"digite o seu nome: \")\n",
        "while len(nome) < 3:\n",
        "    print(\"o nome deve conter pelo menos 3 caracteres \")\n",
        "    nome = input(\"digite o seu nome: \")\n",
        "\n",
        "idade = int(input(\"digite sua idade: \"))\n",
        "while (idade <= 0) or (idade >= 150):\n",
        "    print(\"a idade deve estar entre 0 e 150 anos \")\n",
        "    idade = int(input(\"digite sua idade: \"))\n",
        "\n",
        "salario = float(input(\"digite seu salario: R$\"))\n",
        "while salario <= 0:\n",
        "    print(\"seu salario deve ser maior que zero\")\n",
        "    salario = float(input(\"digite seu salario: R$\"))\n",
        "\n",
        "sexo = input(\"digite seu sexo em f ou m: \")\n",
        "while sexo not in [\"m\", \"f\"]:\n",
        "    print(\"o sexo tem que ser em 'm' ou 'f'\")\n",
        "    sexo = input(\"digite seu sexo em f ou m: \")\n",
        "\n",
        "estado_civil = input(\"informe seu estado civil: \")\n",
        "while estado_civil not in [\"s\", \"c\", \"v\", \"d\"]:\n",
        "    print(\"o estado civil tem que ser em 'c', 's', 'v' ou 'd' \")\n",
        "    estado_civil = input(\"digite seu sexo em f ou m: \")"
      ]
    },
    {
      "cell_type": "code",
      "execution_count": null,
      "id": "7c9f2bdd-514f-4d6d-9922-24bf3a96046f",
      "metadata": {
        "tags": [],
        "id": "7c9f2bdd-514f-4d6d-9922-24bf3a96046f",
        "outputId": "6c652ea4-334f-43a4-eaf9-13d9e30ceafd"
      },
      "outputs": [
        {
          "name": "stdin",
          "output_type": "stream",
          "text": [
            "digite um número e descubra se é seu primo ou não:  11\n"
          ]
        },
        {
          "name": "stdout",
          "output_type": "stream",
          "text": [
            "é seu primo\n"
          ]
        }
      ],
      "source": [
        "# numero primo\n",
        "numero = int(input(\"digite um número e descubra se é seu primo ou não: \"))\n",
        "teste = 0\n",
        "for i in range(2,numero):\n",
        "    if numero % i == 0:\n",
        "        teste = 1\n",
        "        break\n",
        "\n",
        "if teste == 0:\n",
        "    print(\"é seu primo\")\n",
        "else:\n",
        "    print(\"não é seu primo\")"
      ]
    },
    {
      "cell_type": "markdown",
      "id": "568634dd-8d2e-436e-89cd-b7588fd43696",
      "metadata": {
        "id": "568634dd-8d2e-436e-89cd-b7588fd43696"
      },
      "source": [
        "nao lembro que merda é essa embaixo"
      ]
    },
    {
      "cell_type": "code",
      "execution_count": null,
      "id": "610d559e-9b84-4ebc-86e1-d0fd87b531ed",
      "metadata": {
        "tags": [],
        "id": "610d559e-9b84-4ebc-86e1-d0fd87b531ed",
        "outputId": "2f1e5e2e-3509-449a-bf4f-42e697c0c4f7"
      },
      "outputs": [
        {
          "name": "stdout",
          "output_type": "stream",
          "text": [
            "O resultado do somatório é: 2340\n"
          ]
        }
      ],
      "source": [
        "def calcular_somatorio():\n",
        "    resultado_somatorio = 0\n",
        "    for x in range(1, 13):\n",
        "        resultado_somatorio += x * 30\n",
        "    return resultado_somatorio\n",
        "\n",
        "resultado = calcular_somatorio()\n",
        "print(\"O resultado do somatório é: {}\".format(resultado))"
      ]
    },
    {
      "cell_type": "code",
      "execution_count": null,
      "id": "0b0ebcb5-b308-4e7e-9311-3753a54a5e4e",
      "metadata": {
        "tags": [],
        "id": "0b0ebcb5-b308-4e7e-9311-3753a54a5e4e",
        "outputId": "e4fab805-60e0-41e1-c473-882197c07efa"
      },
      "outputs": [
        {
          "name": "stdout",
          "output_type": "stream",
          "text": [
            "o somatorio é 2340\n"
          ]
        }
      ],
      "source": [
        "def somatorio():\n",
        "    resultado = 0\n",
        "    for i in range(13):\n",
        "        resultado += i * 30\n",
        "    return resultado\n",
        "\n",
        "print(f\"o somatorio é {somatorio()}\")"
      ]
    },
    {
      "cell_type": "code",
      "execution_count": null,
      "id": "0d490a67-20ea-4d66-956d-6dd97055bcf6",
      "metadata": {
        "id": "0d490a67-20ea-4d66-956d-6dd97055bcf6",
        "outputId": "db7c2842-143b-4c65-d4e5-1f78359eb99f"
      },
      "outputs": [
        {
          "data": {
            "text/plain": [
              "True"
            ]
          },
          "execution_count": 6,
          "metadata": {},
          "output_type": "execute_result"
        }
      ],
      "source": [
        "curso = \"python e git/github\"\n",
        "lista = [4, \"aunt\"]\n",
        "\n",
        "\"python\" in curso\n",
        "\"ingles\" not in lista"
      ]
    },
    {
      "cell_type": "code",
      "execution_count": null,
      "id": "db6d4c6c-49c3-4c43-b886-f4d299962eeb",
      "metadata": {
        "collapsed": true,
        "jupyter": {
          "outputs_hidden": true
        },
        "id": "db6d4c6c-49c3-4c43-b886-f4d299962eeb",
        "outputId": "a3329389-b918-465c-dae9-5d4836f308b6"
      },
      "outputs": [
        {
          "name": "stdout",
          "output_type": "stream",
          "text": [
            "Falha no pagamento\n"
          ]
        }
      ],
      "source": [
        "credito = 1000\n",
        "compras = 10000\n",
        "\n",
        "compra = \"Aproveite suas compras\" if credito >= compras else \"Falha no pagamento\"\n",
        "print(compra)"
      ]
    },
    {
      "cell_type": "markdown",
      "id": "3a6a0154-e103-48c2-89fa-678a69808511",
      "metadata": {
        "id": "3a6a0154-e103-48c2-89fa-678a69808511"
      },
      "source": [
        "## map e reduce"
      ]
    },
    {
      "cell_type": "code",
      "execution_count": null,
      "id": "e2533793-9a1d-4146-8997-0ca0b7d81a9f",
      "metadata": {
        "tags": [],
        "id": "e2533793-9a1d-4146-8997-0ca0b7d81a9f",
        "outputId": "65c53df4-7d0b-43cf-be1e-b130cb2c38d7"
      },
      "outputs": [
        {
          "data": {
            "text/plain": [
              "[12, 15, 18]"
            ]
          },
          "execution_count": 60,
          "metadata": {},
          "output_type": "execute_result"
        }
      ],
      "source": [
        "a = [1, 2, 3]\n",
        "b = [4, 5, 6]\n",
        "c = [7, 8, 9]\n",
        "\n",
        "list(map(lambda x,y,z : x + y + z, a, b, c))"
      ]
    }
  ],
  "metadata": {
    "kernelspec": {
      "display_name": "Python 3 (ipykernel)",
      "language": "python",
      "name": "python3"
    },
    "language_info": {
      "codemirror_mode": {
        "name": "ipython",
        "version": 3
      },
      "file_extension": ".py",
      "mimetype": "text/x-python",
      "name": "python",
      "nbconvert_exporter": "python",
      "pygments_lexer": "ipython3",
      "version": "3.11.8"
    },
    "colab": {
      "provenance": [],
      "include_colab_link": true
    }
  },
  "nbformat": 4,
  "nbformat_minor": 5
}